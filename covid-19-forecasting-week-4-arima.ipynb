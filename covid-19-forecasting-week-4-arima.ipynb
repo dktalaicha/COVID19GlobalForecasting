{
 "cells": [
  {
   "cell_type": "markdown",
   "metadata": {},
   "source": [
    "# COVID-19 Forecasting Prediction using Auto ARIMA Model\n",
    "\n",
    "### The Autoregressive Integrated Moving Average Model, or ARIMA for short is a standard statistical model for time series forecast and analysis.\n",
    "\n"
   ]
  },
  {
   "cell_type": "code",
   "execution_count": 1,
   "metadata": {
    "_execution_state": "idle",
    "_uuid": "051d70d956493feee0c6d64651c6a088724dca2a"
   },
   "outputs": [
    {
     "name": "stderr",
     "output_type": "stream",
     "text": [
      "── \u001b[1mAttaching packages\u001b[22m ─────────────────────────────────────── tidyverse 1.2.1 ──\n",
      "\n",
      "\u001b[32m✔\u001b[39m \u001b[34mggplot2\u001b[39m 3.3.0.\u001b[31m9000\u001b[39m     \u001b[32m✔\u001b[39m \u001b[34mpurrr  \u001b[39m 0.3.3     \n",
      "\u001b[32m✔\u001b[39m \u001b[34mtibble \u001b[39m 2.1.3          \u001b[32m✔\u001b[39m \u001b[34mdplyr  \u001b[39m 0.8.4     \n",
      "\u001b[32m✔\u001b[39m \u001b[34mtidyr  \u001b[39m 1.0.2          \u001b[32m✔\u001b[39m \u001b[34mstringr\u001b[39m 1.4.0     \n",
      "\u001b[32m✔\u001b[39m \u001b[34mreadr  \u001b[39m 1.3.1          \u001b[32m✔\u001b[39m \u001b[34mforcats\u001b[39m 0.4.0     \n",
      "\n",
      "── \u001b[1mConflicts\u001b[22m ────────────────────────────────────────── tidyverse_conflicts() ──\n",
      "\u001b[31m✖\u001b[39m \u001b[34mdplyr\u001b[39m::\u001b[32mfilter()\u001b[39m masks \u001b[34mstats\u001b[39m::filter()\n",
      "\u001b[31m✖\u001b[39m \u001b[34mdplyr\u001b[39m::\u001b[32mlag()\u001b[39m    masks \u001b[34mstats\u001b[39m::lag()\n",
      "\n",
      "Loading required package: timeDate\n",
      "\n",
      "Loading required package: lattice\n",
      "\n",
      "\n",
      "Attaching package: ‘caret’\n",
      "\n",
      "\n",
      "The following object is masked from ‘package:purrr’:\n",
      "\n",
      "    lift\n",
      "\n",
      "\n",
      "The following object is masked from ‘package:httr’:\n",
      "\n",
      "    progress\n",
      "\n",
      "\n",
      "Registered S3 method overwritten by 'quantmod':\n",
      "  method            from\n",
      "  as.zoo.data.frame zoo \n",
      "\n",
      "\n",
      "Attaching package: ‘lubridate’\n",
      "\n",
      "\n",
      "The following object is masked from ‘package:base’:\n",
      "\n",
      "    date\n",
      "\n",
      "\n",
      "\n",
      "Attaching package: ‘ModelMetrics’\n",
      "\n",
      "\n",
      "The following objects are masked from ‘package:caret’:\n",
      "\n",
      "    confusionMatrix, precision, recall, sensitivity, specificity\n",
      "\n",
      "\n",
      "The following object is masked from ‘package:base’:\n",
      "\n",
      "    kappa\n",
      "\n",
      "\n"
     ]
    }
   ],
   "source": [
    "library(tidyverse)\n",
    "library(timeSeries)\n",
    "library(dplyr) \n",
    "library(caret)\n",
    "library(ggplot2)\n",
    "library(forecast)\n",
    "library(lubridate)\n",
    "library(ModelMetrics)\n",
    "set.seed(123) "
   ]
  },
  {
   "cell_type": "code",
   "execution_count": 2,
   "metadata": {},
   "outputs": [],
   "source": [
    "## Reading in files\n",
    "covid_data_train = read.csv('../input/covid19-global-forecasting-week-4/train.csv')\n",
    "covid_data_test = read.csv('../input/covid19-global-forecasting-week-4/test.csv')\n",
    "covid_data_submission = read.csv('../input/covid19-global-forecasting-week-4/submission.csv')"
   ]
  },
  {
   "cell_type": "markdown",
   "metadata": {},
   "source": [
    "## Analysising and Cleaning the data"
   ]
  },
  {
   "cell_type": "code",
   "execution_count": 3,
   "metadata": {},
   "outputs": [
    {
     "name": "stdout",
     "output_type": "stream",
     "text": [
      "'data.frame':\t25040 obs. of  6 variables:\n",
      " $ Id            : int  1 2 3 4 5 6 7 8 9 10 ...\n",
      " $ Province_State: Factor w/ 134 levels \"\",\"Alabama\",\"Alaska\",..: 1 1 1 1 1 1 1 1 1 1 ...\n",
      " $ Country_Region: Factor w/ 184 levels \"Afghanistan\",..: 1 1 1 1 1 1 1 1 1 1 ...\n",
      " $ Date          : Factor w/ 80 levels \"2020-01-22\",\"2020-01-23\",..: 1 2 3 4 5 6 7 8 9 10 ...\n",
      " $ ConfirmedCases: num  0 0 0 0 0 0 0 0 0 0 ...\n",
      " $ Fatalities    : num  0 0 0 0 0 0 0 0 0 0 ...\n"
     ]
    }
   ],
   "source": [
    "str(covid_data_train)"
   ]
  },
  {
   "cell_type": "code",
   "execution_count": 4,
   "metadata": {},
   "outputs": [
    {
     "name": "stdout",
     "output_type": "stream",
     "text": [
      "'data.frame':\t13459 obs. of  4 variables:\n",
      " $ ForecastId    : int  1 2 3 4 5 6 7 8 9 10 ...\n",
      " $ Province_State: Factor w/ 134 levels \"\",\"Alabama\",\"Alaska\",..: 1 1 1 1 1 1 1 1 1 1 ...\n",
      " $ Country_Region: Factor w/ 184 levels \"Afghanistan\",..: 1 1 1 1 1 1 1 1 1 1 ...\n",
      " $ Date          : Factor w/ 43 levels \"2020-04-02\",\"2020-04-03\",..: 1 2 3 4 5 6 7 8 9 10 ...\n"
     ]
    }
   ],
   "source": [
    "str(covid_data_test)"
   ]
  },
  {
   "cell_type": "code",
   "execution_count": 5,
   "metadata": {},
   "outputs": [
    {
     "name": "stdout",
     "output_type": "stream",
     "text": [
      "'data.frame':\t13459 obs. of  3 variables:\n",
      " $ ForecastId    : int  1 2 3 4 5 6 7 8 9 10 ...\n",
      " $ ConfirmedCases: int  1 1 1 1 1 1 1 1 1 1 ...\n",
      " $ Fatalities    : int  1 1 1 1 1 1 1 1 1 1 ...\n"
     ]
    }
   ],
   "source": [
    "str(covid_data_submission)"
   ]
  },
  {
   "cell_type": "code",
   "execution_count": 6,
   "metadata": {},
   "outputs": [
    {
     "name": "stdout",
     "output_type": "stream",
     "text": [
      "'data.frame':\t25040 obs. of  6 variables:\n",
      " $ Id            : int  1 2 3 4 5 6 7 8 9 10 ...\n",
      " $ Province_State: chr  \"\" \"\" \"\" \"\" ...\n",
      " $ Country_Region: chr  \"Afghanistan\" \"Afghanistan\" \"Afghanistan\" \"Afghanistan\" ...\n",
      " $ Date          : Factor w/ 80 levels \"2020-01-22\",\"2020-01-23\",..: 1 2 3 4 5 6 7 8 9 10 ...\n",
      " $ ConfirmedCases: num  0 0 0 0 0 0 0 0 0 0 ...\n",
      " $ Fatalities    : num  0 0 0 0 0 0 0 0 0 0 ...\n"
     ]
    }
   ],
   "source": [
    "# Converting factor datatypes to character\n",
    "covid_data_train[[\"Province_State\"]] <- as.character(covid_data_train[[\"Province_State\"]] )\n",
    "covid_data_train[[\"Country_Region\"]] <- as.character(covid_data_train[[\"Country_Region\"]] )\n",
    "str(covid_data_train)"
   ]
  },
  {
   "cell_type": "code",
   "execution_count": 7,
   "metadata": {},
   "outputs": [
    {
     "name": "stdout",
     "output_type": "stream",
     "text": [
      "'data.frame':\t13459 obs. of  4 variables:\n",
      " $ ForecastId    : int  1 2 3 4 5 6 7 8 9 10 ...\n",
      " $ Province_State: chr  \"\" \"\" \"\" \"\" ...\n",
      " $ Country_Region: chr  \"Afghanistan\" \"Afghanistan\" \"Afghanistan\" \"Afghanistan\" ...\n",
      " $ Date          : Factor w/ 43 levels \"2020-04-02\",\"2020-04-03\",..: 1 2 3 4 5 6 7 8 9 10 ...\n"
     ]
    }
   ],
   "source": [
    "covid_data_test[[\"Province_State\"]] <- as.character(covid_data_test[[\"Province_State\"]] )\n",
    "covid_data_test[[\"Country_Region\"]] <- as.character(covid_data_test[[\"Country_Region\"]] )\n",
    "str(covid_data_test)"
   ]
  },
  {
   "cell_type": "code",
   "execution_count": 8,
   "metadata": {},
   "outputs": [
    {
     "name": "stdout",
     "output_type": "stream",
     "text": [
      "'data.frame':\t25040 obs. of  6 variables:\n",
      " $ Id            : int  1 2 3 4 5 6 7 8 9 10 ...\n",
      " $ Province_State: chr  \"\" \"\" \"\" \"\" ...\n",
      " $ Country_Region: chr  \"Afghanistan\" \"Afghanistan\" \"Afghanistan\" \"Afghanistan\" ...\n",
      " $ Date          : Date, format: \"2020-01-22\" \"2020-01-23\" ...\n",
      " $ ConfirmedCases: num  0 0 0 0 0 0 0 0 0 0 ...\n",
      " $ Fatalities    : num  0 0 0 0 0 0 0 0 0 0 ...\n"
     ]
    }
   ],
   "source": [
    "# convert date from categorical to Date format\n",
    "covid_data_train[[\"Date\"]] <- as.Date(covid_data_train[[\"Date\"]], format = \"%Y-%m-%d\")\n",
    "covid_data_test[[\"Date\"]] <- as.Date(covid_data_test[[\"Date\"]], format = \"%Y-%m-%d\")\n",
    "str(covid_data_train)"
   ]
  },
  {
   "cell_type": "code",
   "execution_count": 9,
   "metadata": {},
   "outputs": [],
   "source": [
    "# Some of the Province State are missing, to replace the missing Province States with their Country.\n",
    "covid_data_train[[\"Province_State\"]] <- ifelse(covid_data_train[[\"Province_State\"]] == \"\", covid_data_train[[\"Country_Region\"]], covid_data_train[[\"Province_State\"]])\n",
    "covid_data_test[[\"Province_State\"]] <- ifelse(covid_data_test[[\"Province_State\"]] == \"\", covid_data_test[[\"Country_Region\"]], covid_data_test[[\"Province_State\"]])"
   ]
  },
  {
   "cell_type": "code",
   "execution_count": 10,
   "metadata": {},
   "outputs": [
    {
     "data": {
      "text/html": [
       "<table>\n",
       "<caption>A data.frame: 6 × 6</caption>\n",
       "<thead>\n",
       "\t<tr><th></th><th scope=col>Id</th><th scope=col>Province_State</th><th scope=col>Country_Region</th><th scope=col>Date</th><th scope=col>ConfirmedCases</th><th scope=col>Fatalities</th></tr>\n",
       "\t<tr><th></th><th scope=col>&lt;int&gt;</th><th scope=col>&lt;chr&gt;</th><th scope=col>&lt;chr&gt;</th><th scope=col>&lt;date&gt;</th><th scope=col>&lt;dbl&gt;</th><th scope=col>&lt;dbl&gt;</th></tr>\n",
       "</thead>\n",
       "<tbody>\n",
       "\t<tr><th scope=row>1</th><td>1</td><td>Afghanistan</td><td>Afghanistan</td><td>2020-01-22</td><td>0</td><td>0</td></tr>\n",
       "\t<tr><th scope=row>2</th><td>2</td><td>Afghanistan</td><td>Afghanistan</td><td>2020-01-23</td><td>0</td><td>0</td></tr>\n",
       "\t<tr><th scope=row>3</th><td>3</td><td>Afghanistan</td><td>Afghanistan</td><td>2020-01-24</td><td>0</td><td>0</td></tr>\n",
       "\t<tr><th scope=row>4</th><td>4</td><td>Afghanistan</td><td>Afghanistan</td><td>2020-01-25</td><td>0</td><td>0</td></tr>\n",
       "\t<tr><th scope=row>5</th><td>5</td><td>Afghanistan</td><td>Afghanistan</td><td>2020-01-26</td><td>0</td><td>0</td></tr>\n",
       "\t<tr><th scope=row>6</th><td>6</td><td>Afghanistan</td><td>Afghanistan</td><td>2020-01-27</td><td>0</td><td>0</td></tr>\n",
       "</tbody>\n",
       "</table>\n"
      ],
      "text/latex": [
       "A data.frame: 6 × 6\n",
       "\\begin{tabular}{r|llllll}\n",
       "  & Id & Province\\_State & Country\\_Region & Date & ConfirmedCases & Fatalities\\\\\n",
       "  & <int> & <chr> & <chr> & <date> & <dbl> & <dbl>\\\\\n",
       "\\hline\n",
       "\t1 & 1 & Afghanistan & Afghanistan & 2020-01-22 & 0 & 0\\\\\n",
       "\t2 & 2 & Afghanistan & Afghanistan & 2020-01-23 & 0 & 0\\\\\n",
       "\t3 & 3 & Afghanistan & Afghanistan & 2020-01-24 & 0 & 0\\\\\n",
       "\t4 & 4 & Afghanistan & Afghanistan & 2020-01-25 & 0 & 0\\\\\n",
       "\t5 & 5 & Afghanistan & Afghanistan & 2020-01-26 & 0 & 0\\\\\n",
       "\t6 & 6 & Afghanistan & Afghanistan & 2020-01-27 & 0 & 0\\\\\n",
       "\\end{tabular}\n"
      ],
      "text/markdown": [
       "\n",
       "A data.frame: 6 × 6\n",
       "\n",
       "| <!--/--> | Id &lt;int&gt; | Province_State &lt;chr&gt; | Country_Region &lt;chr&gt; | Date &lt;date&gt; | ConfirmedCases &lt;dbl&gt; | Fatalities &lt;dbl&gt; |\n",
       "|---|---|---|---|---|---|---|\n",
       "| 1 | 1 | Afghanistan | Afghanistan | 2020-01-22 | 0 | 0 |\n",
       "| 2 | 2 | Afghanistan | Afghanistan | 2020-01-23 | 0 | 0 |\n",
       "| 3 | 3 | Afghanistan | Afghanistan | 2020-01-24 | 0 | 0 |\n",
       "| 4 | 4 | Afghanistan | Afghanistan | 2020-01-25 | 0 | 0 |\n",
       "| 5 | 5 | Afghanistan | Afghanistan | 2020-01-26 | 0 | 0 |\n",
       "| 6 | 6 | Afghanistan | Afghanistan | 2020-01-27 | 0 | 0 |\n",
       "\n"
      ],
      "text/plain": [
       "  Id Province_State Country_Region Date       ConfirmedCases Fatalities\n",
       "1 1  Afghanistan    Afghanistan    2020-01-22 0              0         \n",
       "2 2  Afghanistan    Afghanistan    2020-01-23 0              0         \n",
       "3 3  Afghanistan    Afghanistan    2020-01-24 0              0         \n",
       "4 4  Afghanistan    Afghanistan    2020-01-25 0              0         \n",
       "5 5  Afghanistan    Afghanistan    2020-01-26 0              0         \n",
       "6 6  Afghanistan    Afghanistan    2020-01-27 0              0         "
      ]
     },
     "metadata": {},
     "output_type": "display_data"
    },
    {
     "data": {
      "text/html": [
       "<table>\n",
       "<caption>A data.frame: 6 × 6</caption>\n",
       "<thead>\n",
       "\t<tr><th></th><th scope=col>Id</th><th scope=col>Province_State</th><th scope=col>Country_Region</th><th scope=col>Date</th><th scope=col>ConfirmedCases</th><th scope=col>Fatalities</th></tr>\n",
       "\t<tr><th></th><th scope=col>&lt;int&gt;</th><th scope=col>&lt;chr&gt;</th><th scope=col>&lt;chr&gt;</th><th scope=col>&lt;date&gt;</th><th scope=col>&lt;dbl&gt;</th><th scope=col>&lt;dbl&gt;</th></tr>\n",
       "</thead>\n",
       "<tbody>\n",
       "\t<tr><th scope=row>25035</th><td>35643</td><td>Zimbabwe</td><td>Zimbabwe</td><td>2020-04-05</td><td> 9</td><td>1</td></tr>\n",
       "\t<tr><th scope=row>25036</th><td>35644</td><td>Zimbabwe</td><td>Zimbabwe</td><td>2020-04-06</td><td>10</td><td>1</td></tr>\n",
       "\t<tr><th scope=row>25037</th><td>35645</td><td>Zimbabwe</td><td>Zimbabwe</td><td>2020-04-07</td><td>11</td><td>2</td></tr>\n",
       "\t<tr><th scope=row>25038</th><td>35646</td><td>Zimbabwe</td><td>Zimbabwe</td><td>2020-04-08</td><td>11</td><td>3</td></tr>\n",
       "\t<tr><th scope=row>25039</th><td>35647</td><td>Zimbabwe</td><td>Zimbabwe</td><td>2020-04-09</td><td>11</td><td>3</td></tr>\n",
       "\t<tr><th scope=row>25040</th><td>35648</td><td>Zimbabwe</td><td>Zimbabwe</td><td>2020-04-10</td><td>13</td><td>3</td></tr>\n",
       "</tbody>\n",
       "</table>\n"
      ],
      "text/latex": [
       "A data.frame: 6 × 6\n",
       "\\begin{tabular}{r|llllll}\n",
       "  & Id & Province\\_State & Country\\_Region & Date & ConfirmedCases & Fatalities\\\\\n",
       "  & <int> & <chr> & <chr> & <date> & <dbl> & <dbl>\\\\\n",
       "\\hline\n",
       "\t25035 & 35643 & Zimbabwe & Zimbabwe & 2020-04-05 &  9 & 1\\\\\n",
       "\t25036 & 35644 & Zimbabwe & Zimbabwe & 2020-04-06 & 10 & 1\\\\\n",
       "\t25037 & 35645 & Zimbabwe & Zimbabwe & 2020-04-07 & 11 & 2\\\\\n",
       "\t25038 & 35646 & Zimbabwe & Zimbabwe & 2020-04-08 & 11 & 3\\\\\n",
       "\t25039 & 35647 & Zimbabwe & Zimbabwe & 2020-04-09 & 11 & 3\\\\\n",
       "\t25040 & 35648 & Zimbabwe & Zimbabwe & 2020-04-10 & 13 & 3\\\\\n",
       "\\end{tabular}\n"
      ],
      "text/markdown": [
       "\n",
       "A data.frame: 6 × 6\n",
       "\n",
       "| <!--/--> | Id &lt;int&gt; | Province_State &lt;chr&gt; | Country_Region &lt;chr&gt; | Date &lt;date&gt; | ConfirmedCases &lt;dbl&gt; | Fatalities &lt;dbl&gt; |\n",
       "|---|---|---|---|---|---|---|\n",
       "| 25035 | 35643 | Zimbabwe | Zimbabwe | 2020-04-05 |  9 | 1 |\n",
       "| 25036 | 35644 | Zimbabwe | Zimbabwe | 2020-04-06 | 10 | 1 |\n",
       "| 25037 | 35645 | Zimbabwe | Zimbabwe | 2020-04-07 | 11 | 2 |\n",
       "| 25038 | 35646 | Zimbabwe | Zimbabwe | 2020-04-08 | 11 | 3 |\n",
       "| 25039 | 35647 | Zimbabwe | Zimbabwe | 2020-04-09 | 11 | 3 |\n",
       "| 25040 | 35648 | Zimbabwe | Zimbabwe | 2020-04-10 | 13 | 3 |\n",
       "\n"
      ],
      "text/plain": [
       "      Id    Province_State Country_Region Date       ConfirmedCases Fatalities\n",
       "25035 35643 Zimbabwe       Zimbabwe       2020-04-05  9             1         \n",
       "25036 35644 Zimbabwe       Zimbabwe       2020-04-06 10             1         \n",
       "25037 35645 Zimbabwe       Zimbabwe       2020-04-07 11             2         \n",
       "25038 35646 Zimbabwe       Zimbabwe       2020-04-08 11             3         \n",
       "25039 35647 Zimbabwe       Zimbabwe       2020-04-09 11             3         \n",
       "25040 35648 Zimbabwe       Zimbabwe       2020-04-10 13             3         "
      ]
     },
     "metadata": {},
     "output_type": "display_data"
    }
   ],
   "source": [
    "head(covid_data_train)\n",
    "tail(covid_data_train)"
   ]
  },
  {
   "cell_type": "code",
   "execution_count": 11,
   "metadata": {},
   "outputs": [
    {
     "data": {
      "text/html": [
       "<style>\n",
       ".dl-inline {width: auto; margin:0; padding: 0}\n",
       ".dl-inline>dt, .dl-inline>dd {float: none; width: auto; display: inline-block}\n",
       ".dl-inline>dt::after {content: \":\\0020\"; padding-right: .5ex}\n",
       ".dl-inline>dt:not(:first-of-type) {padding-left: .5ex}\n",
       "</style><dl class=dl-inline><dt>Id</dt><dd>0</dd><dt>Province_State</dt><dd>0</dd><dt>Country_Region</dt><dd>0</dd><dt>Date</dt><dd>0</dd><dt>ConfirmedCases</dt><dd>0</dd><dt>Fatalities</dt><dd>0</dd></dl>\n"
      ],
      "text/latex": [
       "\\begin{description*}\n",
       "\\item[Id] 0\n",
       "\\item[Province\\textbackslash{}\\_State] 0\n",
       "\\item[Country\\textbackslash{}\\_Region] 0\n",
       "\\item[Date] 0\n",
       "\\item[ConfirmedCases] 0\n",
       "\\item[Fatalities] 0\n",
       "\\end{description*}\n"
      ],
      "text/markdown": [
       "Id\n",
       ":   0Province_State\n",
       ":   0Country_Region\n",
       ":   0Date\n",
       ":   0ConfirmedCases\n",
       ":   0Fatalities\n",
       ":   0\n",
       "\n"
      ],
      "text/plain": [
       "            Id Province_State Country_Region           Date ConfirmedCases \n",
       "             0              0              0              0              0 \n",
       "    Fatalities \n",
       "             0 "
      ]
     },
     "metadata": {},
     "output_type": "display_data"
    },
    {
     "data": {
      "text/html": [
       "<style>\n",
       ".dl-inline {width: auto; margin:0; padding: 0}\n",
       ".dl-inline>dt, .dl-inline>dd {float: none; width: auto; display: inline-block}\n",
       ".dl-inline>dt::after {content: \":\\0020\"; padding-right: .5ex}\n",
       ".dl-inline>dt:not(:first-of-type) {padding-left: .5ex}\n",
       "</style><dl class=dl-inline><dt>ForecastId</dt><dd>0</dd><dt>Province_State</dt><dd>0</dd><dt>Country_Region</dt><dd>0</dd><dt>Date</dt><dd>0</dd></dl>\n"
      ],
      "text/latex": [
       "\\begin{description*}\n",
       "\\item[ForecastId] 0\n",
       "\\item[Province\\textbackslash{}\\_State] 0\n",
       "\\item[Country\\textbackslash{}\\_Region] 0\n",
       "\\item[Date] 0\n",
       "\\end{description*}\n"
      ],
      "text/markdown": [
       "ForecastId\n",
       ":   0Province_State\n",
       ":   0Country_Region\n",
       ":   0Date\n",
       ":   0\n",
       "\n"
      ],
      "text/plain": [
       "    ForecastId Province_State Country_Region           Date \n",
       "             0              0              0              0 "
      ]
     },
     "metadata": {},
     "output_type": "display_data"
    },
    {
     "data": {
      "text/html": [
       "0"
      ],
      "text/latex": [
       "0"
      ],
      "text/markdown": [
       "0"
      ],
      "text/plain": [
       "[1] 0"
      ]
     },
     "metadata": {},
     "output_type": "display_data"
    }
   ],
   "source": [
    "# show variables with missing values\n",
    "colSums(is.na(covid_data_train)) \n",
    "colSums(is.na(covid_data_test)) \n",
    "sum(is.na(covid_data_train))\n",
    "\n",
    "# 0 missing values"
   ]
  },
  {
   "cell_type": "markdown",
   "metadata": {},
   "source": [
    "## Exploratory Data Analysis(EDA)"
   ]
  },
  {
   "cell_type": "markdown",
   "metadata": {},
   "source": [
    "#### Covid-19 Confirmed & Fatalities Cases with Date"
   ]
  },
  {
   "cell_type": "code",
   "execution_count": 12,
   "metadata": {},
   "outputs": [
    {
     "data": {
      "image/png": "[encoded data removed]"
     },
     "metadata": {
      "image/png": {
       "height": 420,
       "width": 420
      }
     },
     "output_type": "display_data"
    }
   ],
   "source": [
    "# cummulative the Train data by Date\n",
    "covidCummulativeData <- covid_data_train %>% \n",
    "  group_by(Date) %>%\n",
    "  summarise(ConfirmedCases = sum(ConfirmedCases), Fatalities = sum(Fatalities))\n",
    "\n",
    "\n",
    "ggplot(covidCummulativeData, aes(Date)) + \n",
    "  geom_line(aes(y = ConfirmedCases/1000000, colour = \"Confirmed Cases\")) + \n",
    "  geom_line(aes(y = Fatalities/1000000, colour = \"Fatalities\")) + \n",
    "  labs(x = 'Date since 22-01-2020', y = 'Count Per Million') +\n",
    "  ggtitle(\"Covid-19 Confirmed & Fatalities Cases with Date\")"
   ]
  },
  {
   "cell_type": "markdown",
   "metadata": {},
   "source": [
    "#### Progress of Covid-19 Confirmed and Fatalities Cases with Dates for few countries"
   ]
  },
  {
   "cell_type": "code",
   "execution_count": 13,
   "metadata": {},
   "outputs": [
    {
     "data": {
      "image/png": "[encoded data removed]"
     },
     "metadata": {
      "image/png": {
       "height": 420,
       "width": 420
      }
     },
     "output_type": "display_data"
    }
   ],
   "source": [
    "# Group the Train data by Country and Date\n",
    "covidFilterData <- covid_data_train %>%\n",
    "  dplyr::filter(Country_Region %in% c(\"China\",\"Italy\",\"US\",\"Germany\",\"Iran\",\"Spain\",\"France\",\"Korea, South\",\"Switzerland\",\"United Kingdom\",\"India\")) %>%\n",
    "  group_by(Date, Country_Region) %>%\n",
    "  summarise(ConfirmedCases = sum(ConfirmedCases), Fatalities = sum(Fatalities))\n",
    "\n",
    "# visualize the confirmed cases of few countries\n",
    "ggplot(data = covidFilterData, aes(x = Date, y = ConfirmedCases, group = Country_Region)) +\n",
    "  geom_line(aes(color = Country_Region)) + \n",
    "  labs(x = 'Date since 22-01-2020', y = 'Count') + \n",
    "  geom_point(aes(color=Country_Region))+\n",
    "  ggtitle(\"Covid-19 Confirmed Cases with Date\") "
   ]
  },
  {
   "cell_type": "code",
   "execution_count": 14,
   "metadata": {},
   "outputs": [
    {
     "data": {
      "image/png": "[encoded data removed]"
     },
     "metadata": {
      "image/png": {
       "height": 420,
       "width": 420
      }
     },
     "output_type": "display_data"
    }
   ],
   "source": [
    "# visualize the Fatalities cases of few countries\n",
    "ggplot(data = covidFilterData, aes(x = Date, y = Fatalities, group = Country_Region)) +\n",
    "  geom_line(aes(color = Country_Region)) + \n",
    "  labs(x = 'Date since 22-01-2020', y = 'Fatalities Count') + \n",
    "  geom_point(aes(color=Country_Region))+\n",
    "  ggtitle(\"Covid-19 Fatalities with Date\") "
   ]
  },
  {
   "cell_type": "markdown",
   "metadata": {},
   "source": [
    "#### visualize the Confirmed Cases vs Fatalities cases of few countries"
   ]
  },
  {
   "cell_type": "code",
   "execution_count": 15,
   "metadata": {},
   "outputs": [
    {
     "data": {
      "text/html": [
       "<table>\n",
       "<caption>A grouped_df: 6 × 4</caption>\n",
       "<thead>\n",
       "\t<tr><th scope=col>Date</th><th scope=col>Country_Region</th><th scope=col>event</th><th scope=col>total</th></tr>\n",
       "\t<tr><th scope=col>&lt;date&gt;</th><th scope=col>&lt;chr&gt;</th><th scope=col>&lt;chr&gt;</th><th scope=col>&lt;dbl&gt;</th></tr>\n",
       "</thead>\n",
       "<tbody>\n",
       "\t<tr><td>2020-01-22</td><td>China  </td><td>ConfirmedCases</td><td>548</td></tr>\n",
       "\t<tr><td>2020-01-22</td><td>France </td><td>ConfirmedCases</td><td>  0</td></tr>\n",
       "\t<tr><td>2020-01-22</td><td>Germany</td><td>ConfirmedCases</td><td>  0</td></tr>\n",
       "\t<tr><td>2020-01-22</td><td>India  </td><td>ConfirmedCases</td><td>  0</td></tr>\n",
       "\t<tr><td>2020-01-22</td><td>Iran   </td><td>ConfirmedCases</td><td>  0</td></tr>\n",
       "\t<tr><td>2020-01-22</td><td>Italy  </td><td>ConfirmedCases</td><td>  0</td></tr>\n",
       "</tbody>\n",
       "</table>\n"
      ],
      "text/latex": [
       "A grouped\\_df: 6 × 4\n",
       "\\begin{tabular}{llll}\n",
       " Date & Country\\_Region & event & total\\\\\n",
       " <date> & <chr> & <chr> & <dbl>\\\\\n",
       "\\hline\n",
       "\t 2020-01-22 & China   & ConfirmedCases & 548\\\\\n",
       "\t 2020-01-22 & France  & ConfirmedCases &   0\\\\\n",
       "\t 2020-01-22 & Germany & ConfirmedCases &   0\\\\\n",
       "\t 2020-01-22 & India   & ConfirmedCases &   0\\\\\n",
       "\t 2020-01-22 & Iran    & ConfirmedCases &   0\\\\\n",
       "\t 2020-01-22 & Italy   & ConfirmedCases &   0\\\\\n",
       "\\end{tabular}\n"
      ],
      "text/markdown": [
       "\n",
       "A grouped_df: 6 × 4\n",
       "\n",
       "| Date &lt;date&gt; | Country_Region &lt;chr&gt; | event &lt;chr&gt; | total &lt;dbl&gt; |\n",
       "|---|---|---|---|\n",
       "| 2020-01-22 | China   | ConfirmedCases | 548 |\n",
       "| 2020-01-22 | France  | ConfirmedCases |   0 |\n",
       "| 2020-01-22 | Germany | ConfirmedCases |   0 |\n",
       "| 2020-01-22 | India   | ConfirmedCases |   0 |\n",
       "| 2020-01-22 | Iran    | ConfirmedCases |   0 |\n",
       "| 2020-01-22 | Italy   | ConfirmedCases |   0 |\n",
       "\n"
      ],
      "text/plain": [
       "  Date       Country_Region event          total\n",
       "1 2020-01-22 China          ConfirmedCases 548  \n",
       "2 2020-01-22 France         ConfirmedCases   0  \n",
       "3 2020-01-22 Germany        ConfirmedCases   0  \n",
       "4 2020-01-22 India          ConfirmedCases   0  \n",
       "5 2020-01-22 Iran           ConfirmedCases   0  \n",
       "6 2020-01-22 Italy          ConfirmedCases   0  "
      ]
     },
     "metadata": {},
     "output_type": "display_data"
    },
    {
     "data": {
      "image/png": "[encoded data removed]"
     },
     "metadata": {
      "image/png": {
       "height": 420,
       "width": 420
      }
     },
     "output_type": "display_data"
    }
   ],
   "source": [
    "#Create long format\n",
    "longFrmtData <- gather(covidFilterData, event, total, ConfirmedCases:Fatalities) \n",
    "head(longFrmtData)\n",
    "\n",
    "ggplot(longFrmtData, aes(Country_Region, total/1000, fill=event)) + \n",
    "  geom_bar(stat = \"identity\", position = 'dodge') + \n",
    "  labs(x=\"Country\",y=\"Count per Day per Thousand\") + \n",
    "  ggtitle(\"Confirmed vs Fatalities\")"
   ]
  },
  {
   "cell_type": "markdown",
   "metadata": {},
   "source": [
    "\n",
    "#### Confirmed Cases: \n",
    "It can be seen that a raise in maximum number of new cases appears in week of Feb 11-18, after which China reached its saturation point. Then a new sudden rise appears after March 24th, when the total new cases world wide crosses the total affectees in China alone.\n",
    "\n",
    "#### Deaths: \n",
    "As can be seen, since March 11th, the death toll rises steeply due to extreme rise in European countires, specially Italy, Spain, France and UK, and as well as now in US. The average mortality rate in these countries below can explain the peaks in the global mortality rate."
   ]
  },
  {
   "cell_type": "markdown",
   "metadata": {},
   "source": [
    "## ARIMA Time Series Analysis and Forecasting "
   ]
  },
  {
   "cell_type": "markdown",
   "metadata": {},
   "source": [
    "We need to do the predictions for 43 days, with overlap with of 9 days in training data that we will use to test our forecast model. Lets look at the records with entries greater than zero."
   ]
  },
  {
   "cell_type": "code",
   "execution_count": 16,
   "metadata": {},
   "outputs": [
    {
     "data": {
      "text/html": [
       "<table>\n",
       "<caption>A data.frame: 6 × 1</caption>\n",
       "<thead>\n",
       "\t<tr><th></th><th scope=col>Province_State</th></tr>\n",
       "\t<tr><th></th><th scope=col>&lt;chr&gt;</th></tr>\n",
       "</thead>\n",
       "<tbody>\n",
       "\t<tr><th scope=row>1</th><td>Afghanistan        </td></tr>\n",
       "\t<tr><th scope=row>2</th><td>Albania            </td></tr>\n",
       "\t<tr><th scope=row>3</th><td>Algeria            </td></tr>\n",
       "\t<tr><th scope=row>4</th><td>Andorra            </td></tr>\n",
       "\t<tr><th scope=row>5</th><td>Angola             </td></tr>\n",
       "\t<tr><th scope=row>6</th><td>Antigua and Barbuda</td></tr>\n",
       "</tbody>\n",
       "</table>\n"
      ],
      "text/latex": [
       "A data.frame: 6 × 1\n",
       "\\begin{tabular}{r|l}\n",
       "  & Province\\_State\\\\\n",
       "  & <chr>\\\\\n",
       "\\hline\n",
       "\t1 & Afghanistan        \\\\\n",
       "\t2 & Albania            \\\\\n",
       "\t3 & Algeria            \\\\\n",
       "\t4 & Andorra            \\\\\n",
       "\t5 & Angola             \\\\\n",
       "\t6 & Antigua and Barbuda\\\\\n",
       "\\end{tabular}\n"
      ],
      "text/markdown": [
       "\n",
       "A data.frame: 6 × 1\n",
       "\n",
       "| <!--/--> | Province_State &lt;chr&gt; |\n",
       "|---|---|\n",
       "| 1 | Afghanistan         |\n",
       "| 2 | Albania             |\n",
       "| 3 | Algeria             |\n",
       "| 4 | Andorra             |\n",
       "| 5 | Angola              |\n",
       "| 6 | Antigua and Barbuda |\n",
       "\n"
      ],
      "text/plain": [
       "  Province_State     \n",
       "1 Afghanistan        \n",
       "2 Albania            \n",
       "3 Algeria            \n",
       "4 Andorra            \n",
       "5 Angola             \n",
       "6 Antigua and Barbuda"
      ]
     },
     "metadata": {},
     "output_type": "display_data"
    },
    {
     "name": "stdout",
     "output_type": "stream",
     "text": [
      "Count of unique Province States: 312 \n"
     ]
    }
   ],
   "source": [
    "unique_state_train <- covid_data_train %>% distinct(Province_State)\n",
    "head(unique_state_train)\n",
    "\n",
    "state_len <- length(unique_state_train$Province_State)\n",
    "cat(\"Count of unique Province States:\", state_len, \"\\n\")"
   ]
  },
  {
   "cell_type": "code",
   "execution_count": 17,
   "metadata": {},
   "outputs": [
    {
     "name": "stdout",
     "output_type": "stream",
     "text": [
      "1 / 312 Province: Afghanistan \n",
      "RMSLE :-   0.158 \n",
      "\n",
      "2 / 312 Province: Albania \n",
      "RMSLE :-   0.1822 \n",
      "\n",
      "3 / 312 Province: Algeria \n",
      "RMSLE :-   0.267 \n",
      "\n",
      "4 / 312 Province: Andorra \n",
      "RMSLE :-   0.3892 \n",
      "\n",
      "5 / 312 Province: Angola \n"
     ]
    },
    {
     "name": "stderr",
     "output_type": "stream",
     "text": [
      "Warning message in train.default(x, y, weights = w, ...):\n",
      "“You are trying to do regression and your outcome only has two possible values Are you trying to do classification? If so, use a 2 level factor as your outcome column.”\n",
      "Warning message in nominalTrainWorkflow(x = x, y = y, wts = weights, info = trainInfo, :\n",
      "“There were missing values in resampled performance measures.”\n"
     ]
    },
    {
     "name": "stdout",
     "output_type": "stream",
     "text": [
      "RMSLE :-   0.1688 \n",
      "\n",
      "6 / 312 Province: Antigua and Barbuda \n"
     ]
    },
    {
     "name": "stderr",
     "output_type": "stream",
     "text": [
      "Warning message in nominalTrainWorkflow(x = x, y = y, wts = weights, info = trainInfo, :\n",
      "“There were missing values in resampled performance measures.”\n"
     ]
    },
    {
     "name": "stdout",
     "output_type": "stream",
     "text": [
      "RMSLE :-   0.1741 \n",
      "\n",
      "7 / 312 Province: Argentina \n",
      "RMSLE :-   0.2834 \n",
      "\n",
      "8 / 312 Province: Armenia \n"
     ]
    },
    {
     "name": "stderr",
     "output_type": "stream",
     "text": [
      "Warning message in nominalTrainWorkflow(x = x, y = y, wts = weights, info = trainInfo, :\n",
      "“There were missing values in resampled performance measures.”\n"
     ]
    },
    {
     "name": "stdout",
     "output_type": "stream",
     "text": [
      "RMSLE :-   0.321 \n",
      "\n",
      "9 / 312 Province: Australian Capital Territory \n"
     ]
    },
    {
     "name": "stderr",
     "output_type": "stream",
     "text": [
      "Warning message in nominalTrainWorkflow(x = x, y = y, wts = weights, info = trainInfo, :\n",
      "“There were missing values in resampled performance measures.”\n"
     ]
    },
    {
     "name": "stdout",
     "output_type": "stream",
     "text": [
      "RMSLE :-   0.1835 \n",
      "\n",
      "10 / 312 Province: New South Wales \n",
      "RMSLE :-   0.3783 \n",
      "\n",
      "11 / 312 Province: Northern Territory \n",
      "12 / 312 Province: Queensland \n"
     ]
    },
    {
     "name": "stderr",
     "output_type": "stream",
     "text": [
      "Warning message in nominalTrainWorkflow(x = x, y = y, wts = weights, info = trainInfo, :\n",
      "“There were missing values in resampled performance measures.”\n"
     ]
    },
    {
     "name": "stdout",
     "output_type": "stream",
     "text": [
      "RMSLE :-   0.223 \n",
      "\n",
      "13 / 312 Province: South Australia \n"
     ]
    },
    {
     "name": "stderr",
     "output_type": "stream",
     "text": [
      "Warning message in nominalTrainWorkflow(x = x, y = y, wts = weights, info = trainInfo, :\n",
      "“There were missing values in resampled performance measures.”\n"
     ]
    },
    {
     "name": "stdout",
     "output_type": "stream",
     "text": [
      "RMSLE :-   0.2357 \n",
      "\n",
      "14 / 312 Province: Tasmania \n"
     ]
    },
    {
     "name": "stderr",
     "output_type": "stream",
     "text": [
      "Warning message in nominalTrainWorkflow(x = x, y = y, wts = weights, info = trainInfo, :\n",
      "“There were missing values in resampled performance measures.”\n"
     ]
    },
    {
     "name": "stdout",
     "output_type": "stream",
     "text": [
      "RMSLE :-   0.2341 \n",
      "\n",
      "15 / 312 Province: Victoria \n"
     ]
    },
    {
     "name": "stderr",
     "output_type": "stream",
     "text": [
      "Warning message in nominalTrainWorkflow(x = x, y = y, wts = weights, info = trainInfo, :\n",
      "“There were missing values in resampled performance measures.”\n"
     ]
    },
    {
     "name": "stdout",
     "output_type": "stream",
     "text": [
      "RMSLE :-   0.3419 \n",
      "\n",
      "16 / 312 Province: Western Australia \n",
      "RMSLE :-   0.2815 \n",
      "\n",
      "17 / 312 Province: Austria \n",
      "RMSLE :-   0.5193 \n",
      "\n",
      "18 / 312 Province: Azerbaijan \n",
      "RMSLE :-   0.2227 \n",
      "\n",
      "19 / 312 Province: Bahamas \n"
     ]
    },
    {
     "name": "stderr",
     "output_type": "stream",
     "text": [
      "Warning message in nominalTrainWorkflow(x = x, y = y, wts = weights, info = trainInfo, :\n",
      "“There were missing values in resampled performance measures.”\n"
     ]
    },
    {
     "name": "stdout",
     "output_type": "stream",
     "text": [
      "RMSLE :-   0.3117 \n",
      "\n",
      "20 / 312 Province: Bahrain \n",
      "RMSLE :-   0.2348 \n",
      "\n",
      "21 / 312 Province: Bangladesh \n",
      "RMSLE :-   0.2994 \n",
      "\n",
      "22 / 312 Province: Barbados \n"
     ]
    },
    {
     "name": "stderr",
     "output_type": "stream",
     "text": [
      "Warning message in nominalTrainWorkflow(x = x, y = y, wts = weights, info = trainInfo, :\n",
      "“There were missing values in resampled performance measures.”\n"
     ]
    },
    {
     "name": "stdout",
     "output_type": "stream",
     "text": [
      "RMSLE :-   0.264 \n",
      "\n",
      "23 / 312 Province: Belarus \n"
     ]
    },
    {
     "name": "stderr",
     "output_type": "stream",
     "text": [
      "Warning message in nominalTrainWorkflow(x = x, y = y, wts = weights, info = trainInfo, :\n",
      "“There were missing values in resampled performance measures.”\n"
     ]
    },
    {
     "name": "stdout",
     "output_type": "stream",
     "text": [
      "RMSLE :-   0.2668 \n",
      "\n",
      "24 / 312 Province: Belgium \n",
      "RMSLE :-   0.5871 \n",
      "\n",
      "25 / 312 Province: Belize \n"
     ]
    },
    {
     "name": "stderr",
     "output_type": "stream",
     "text": [
      "Warning message in nominalTrainWorkflow(x = x, y = y, wts = weights, info = trainInfo, :\n",
      "“There were missing values in resampled performance measures.”\n"
     ]
    },
    {
     "name": "stdout",
     "output_type": "stream",
     "text": [
      "RMSLE :-   0.1153 \n",
      "\n",
      "26 / 312 Province: Benin \n"
     ]
    },
    {
     "name": "stderr",
     "output_type": "stream",
     "text": [
      "Warning message in train.default(x, y, weights = w, ...):\n",
      "“You are trying to do regression and your outcome only has two possible values Are you trying to do classification? If so, use a 2 level factor as your outcome column.”\n",
      "Warning message in nominalTrainWorkflow(x = x, y = y, wts = weights, info = trainInfo, :\n",
      "“There were missing values in resampled performance measures.”\n"
     ]
    },
    {
     "name": "stdout",
     "output_type": "stream",
     "text": [
      "RMSLE :-   0.1028 \n",
      "\n",
      "27 / 312 Province: Bhutan \n",
      "28 / 312 Province: Bolivia \n"
     ]
    },
    {
     "name": "stderr",
     "output_type": "stream",
     "text": [
      "Warning message in nominalTrainWorkflow(x = x, y = y, wts = weights, info = trainInfo, :\n",
      "“There were missing values in resampled performance measures.”\n"
     ]
    },
    {
     "name": "stdout",
     "output_type": "stream",
     "text": [
      "RMSLE :-   0.3962 \n",
      "\n",
      "29 / 312 Province: Bosnia and Herzegovina \n",
      "RMSLE :-   0.306 \n",
      "\n",
      "30 / 312 Province: Botswana \n"
     ]
    },
    {
     "name": "stderr",
     "output_type": "stream",
     "text": [
      "Warning message in train.default(x, y, weights = w, ...):\n",
      "“You are trying to do regression and your outcome only has two possible values Are you trying to do classification? If so, use a 2 level factor as your outcome column.”\n",
      "Warning message in nominalTrainWorkflow(x = x, y = y, wts = weights, info = trainInfo, :\n",
      "“There were missing values in resampled performance measures.”\n"
     ]
    },
    {
     "name": "stdout",
     "output_type": "stream",
     "text": [
      "RMSLE :-   0.0982 \n",
      "\n",
      "31 / 312 Province: Brazil \n",
      "RMSLE :-   0.291 \n",
      "\n",
      "32 / 312 Province: Brunei \n"
     ]
    },
    {
     "name": "stderr",
     "output_type": "stream",
     "text": [
      "Warning message in train.default(x, y, weights = w, ...):\n",
      "“You are trying to do regression and your outcome only has two possible values Are you trying to do classification? If so, use a 2 level factor as your outcome column.”\n",
      "Warning message in nominalTrainWorkflow(x = x, y = y, wts = weights, info = trainInfo, :\n",
      "“There were missing values in resampled performance measures.”\n"
     ]
    },
    {
     "name": "stdout",
     "output_type": "stream",
     "text": [
      "RMSLE :-   0.1644 \n",
      "\n",
      "33 / 312 Province: Bulgaria \n",
      "RMSLE :-   0.2685 \n",
      "\n",
      "34 / 312 Province: Burkina Faso \n",
      "RMSLE :-   0.1257 \n",
      "\n",
      "35 / 312 Province: Burma \n"
     ]
    },
    {
     "name": "stderr",
     "output_type": "stream",
     "text": [
      "Warning message in nominalTrainWorkflow(x = x, y = y, wts = weights, info = trainInfo, :\n",
      "“There were missing values in resampled performance measures.”\n"
     ]
    },
    {
     "name": "stdout",
     "output_type": "stream",
     "text": [
      "RMSLE :-   0.1536 \n",
      "\n",
      "36 / 312 Province: Burundi \n",
      "37 / 312 Province: Cabo Verde \n"
     ]
    },
    {
     "name": "stderr",
     "output_type": "stream",
     "text": [
      "Warning message in train.default(x, y, weights = w, ...):\n",
      "“You are trying to do regression and your outcome only has two possible values Are you trying to do classification? If so, use a 2 level factor as your outcome column.”\n",
      "Warning message in nominalTrainWorkflow(x = x, y = y, wts = weights, info = trainInfo, :\n",
      "“There were missing values in resampled performance measures.”\n"
     ]
    },
    {
     "name": "stdout",
     "output_type": "stream",
     "text": [
      "RMSLE :-   0.093 \n",
      "\n",
      "38 / 312 Province: Cambodia \n",
      "39 / 312 Province: Cameroon \n"
     ]
    },
    {
     "name": "stderr",
     "output_type": "stream",
     "text": [
      "Warning message in nominalTrainWorkflow(x = x, y = y, wts = weights, info = trainInfo, :\n",
      "“There were missing values in resampled performance measures.”\n"
     ]
    },
    {
     "name": "stdout",
     "output_type": "stream",
     "text": [
      "RMSLE :-   0.2425 \n",
      "\n",
      "40 / 312 Province: Alberta \n",
      "RMSLE :-   0.3847 \n",
      "\n",
      "41 / 312 Province: British Columbia \n",
      "RMSLE :-   0.1556 \n",
      "\n",
      "42 / 312 Province: Manitoba \n"
     ]
    },
    {
     "name": "stderr",
     "output_type": "stream",
     "text": [
      "Warning message in nominalTrainWorkflow(x = x, y = y, wts = weights, info = trainInfo, :\n",
      "“There were missing values in resampled performance measures.”\n"
     ]
    },
    {
     "name": "stdout",
     "output_type": "stream",
     "text": [
      "RMSLE :-   0.1019 \n",
      "\n",
      "43 / 312 Province: New Brunswick \n",
      "44 / 312 Province: Newfoundland and Labrador \n"
     ]
    },
    {
     "name": "stderr",
     "output_type": "stream",
     "text": [
      "Warning message in nominalTrainWorkflow(x = x, y = y, wts = weights, info = trainInfo, :\n",
      "“There were missing values in resampled performance measures.”\n"
     ]
    },
    {
     "name": "stdout",
     "output_type": "stream",
     "text": [
      "RMSLE :-   0.1329 \n",
      "\n",
      "45 / 312 Province: Northwest Territories \n",
      "46 / 312 Province: Nova Scotia \n"
     ]
    },
    {
     "name": "stderr",
     "output_type": "stream",
     "text": [
      "Warning message in nominalTrainWorkflow(x = x, y = y, wts = weights, info = trainInfo, :\n",
      "“There were missing values in resampled performance measures.”\n"
     ]
    },
    {
     "name": "stdout",
     "output_type": "stream",
     "text": [
      "RMSLE :-   0.1341 \n",
      "\n",
      "47 / 312 Province: Ontario \n",
      "RMSLE :-   0.3262 \n",
      "\n",
      "48 / 312 Province: Prince Edward Island \n"
     ]
    },
    {
     "name": "stderr",
     "output_type": "stream",
     "text": [
      "Warning message in train.default(x, y, weights = w, ...):\n",
      "“You are trying to do regression and your outcome only has two possible values Are you trying to do classification? If so, use a 2 level factor as your outcome column.”\n",
      "Warning message in bayesglm.fit(x = X, y = Y, weights = weights, start = start, :\n",
      "“prior scale for varible 1 set to min.prior.scale = 1e-12\n",
      "”\n",
      "Warning message in bayesglm.fit(x = X, y = Y, weights = weights, start = start, :\n",
      "“prior scale for varible 2 set to min.prior.scale = 1e-12\n",
      "”\n",
      "Warning message:\n",
      "“model fit failed for Fold8.Rep1: parameter=none Error in lm.fit(x = x.star[good.star, , drop = FALSE] * w.star, y = z.star *  : \n",
      "  NA/NaN/Inf in 'x'\n",
      "”\n",
      "Warning message in bayesglm.fit(x = X, y = Y, weights = weights, start = start, :\n",
      "“prior scale for varible 1 set to min.prior.scale = 1e-12\n",
      "”\n",
      "Warning message in bayesglm.fit(x = X, y = Y, weights = weights, start = start, :\n",
      "“prior scale for varible 2 set to min.prior.scale = 1e-12\n",
      "”\n",
      "Warning message:\n",
      "“model fit failed for Fold4.Rep2: parameter=none Error in lm.fit(x = x.star[good.star, , drop = FALSE] * w.star, y = z.star *  : \n",
      "  NA/NaN/Inf in 'x'\n",
      "”\n",
      "Warning message in bayesglm.fit(x = X, y = Y, weights = weights, start = start, :\n",
      "“prior scale for varible 1 set to min.prior.scale = 1e-12\n",
      "”\n",
      "Warning message in bayesglm.fit(x = X, y = Y, weights = weights, start = start, :\n",
      "“prior scale for varible 2 set to min.prior.scale = 1e-12\n",
      "”\n",
      "Warning message:\n",
      "“model fit failed for Fold3.Rep3: parameter=none Error in lm.fit(x = x.star[good.star, , drop = FALSE] * w.star, y = z.star *  : \n",
      "  NA/NaN/Inf in 'x'\n",
      "”\n",
      "Warning message in bayesglm.fit(x = X, y = Y, weights = weights, start = start, :\n",
      "“prior scale for varible 1 set to min.prior.scale = 1e-12\n",
      "”\n",
      "Warning message in bayesglm.fit(x = X, y = Y, weights = weights, start = start, :\n",
      "“prior scale for varible 2 set to min.prior.scale = 1e-12\n",
      "”\n",
      "Warning message:\n",
      "“model fit failed for Fold7.Rep4: parameter=none Error in lm.fit(x = x.star[good.star, , drop = FALSE] * w.star, y = z.star *  : \n",
      "  NA/NaN/Inf in 'x'\n",
      "”\n",
      "Warning message in bayesglm.fit(x = X, y = Y, weights = weights, start = start, :\n",
      "“prior scale for varible 1 set to min.prior.scale = 1e-12\n",
      "”\n",
      "Warning message in bayesglm.fit(x = X, y = Y, weights = weights, start = start, :\n",
      "“prior scale for varible 2 set to min.prior.scale = 1e-12\n",
      "”\n",
      "Warning message:\n",
      "“model fit failed for Fold4.Rep5: parameter=none Error in lm.fit(x = x.star[good.star, , drop = FALSE] * w.star, y = z.star *  : \n",
      "  NA/NaN/Inf in 'x'\n",
      "”\n",
      "Warning message in nominalTrainWorkflow(x = x, y = y, wts = weights, info = trainInfo, :\n",
      "“There were missing values in resampled performance measures.”\n"
     ]
    },
    {
     "name": "stdout",
     "output_type": "stream",
     "text": [
      "RMSLE :-   0.0741 \n",
      "\n",
      "49 / 312 Province: Quebec \n",
      "RMSLE :-   0.401 \n",
      "\n",
      "50 / 312 Province: Saskatchewan \n"
     ]
    },
    {
     "name": "stderr",
     "output_type": "stream",
     "text": [
      "Warning message in nominalTrainWorkflow(x = x, y = y, wts = weights, info = trainInfo, :\n",
      "“There were missing values in resampled performance measures.”\n"
     ]
    },
    {
     "name": "stdout",
     "output_type": "stream",
     "text": [
      "RMSLE :-   0.2234 \n",
      "\n",
      "51 / 312 Province: Yukon \n",
      "52 / 312 Province: Central African Republic \n",
      "53 / 312 Province: Chad \n",
      "54 / 312 Province: Chile \n",
      "RMSLE :-   0.3562 \n",
      "\n",
      "55 / 312 Province: Anhui \n",
      "RMSLE :-   0.3856 \n",
      "\n",
      "56 / 312 Province: Beijing \n",
      "RMSLE :-   0.2938 \n",
      "\n",
      "57 / 312 Province: Chongqing \n",
      "RMSLE :-   0.1924 \n",
      "\n",
      "58 / 312 Province: Fujian \n"
     ]
    },
    {
     "name": "stderr",
     "output_type": "stream",
     "text": [
      "Warning message in train.default(x, y, weights = w, ...):\n",
      "“You are trying to do regression and your outcome only has two possible values Are you trying to do classification? If so, use a 2 level factor as your outcome column.”\n"
     ]
    },
    {
     "name": "stdout",
     "output_type": "stream",
     "text": [
      "RMSLE :-   0.2366 \n",
      "\n",
      "59 / 312 Province: Gansu \n"
     ]
    },
    {
     "name": "stderr",
     "output_type": "stream",
     "text": [
      "Warning message in nominalTrainWorkflow(x = x, y = y, wts = weights, info = trainInfo, :\n",
      "“There were missing values in resampled performance measures.”\n"
     ]
    },
    {
     "name": "stdout",
     "output_type": "stream",
     "text": [
      "RMSLE :-   0.2353 \n",
      "\n",
      "60 / 312 Province: Guangdong \n",
      "RMSLE :-   0.5024 \n",
      "\n",
      "61 / 312 Province: Guangxi \n",
      "RMSLE :-   0.1989 \n",
      "\n",
      "62 / 312 Province: Guizhou \n",
      "RMSLE :-   0.1321 \n",
      "\n",
      "63 / 312 Province: Hainan \n",
      "RMSLE :-   0.1946 \n",
      "\n",
      "64 / 312 Province: Hebei \n",
      "RMSLE :-   0.2886 \n",
      "\n",
      "65 / 312 Province: Heilongjiang \n",
      "RMSLE :-   0.2203 \n",
      "\n",
      "66 / 312 Province: Henan \n",
      "RMSLE :-   0.4471 \n",
      "\n",
      "67 / 312 Province: Hong Kong \n",
      "RMSLE :-   0.43 \n",
      "\n",
      "68 / 312 Province: Hubei \n",
      "RMSLE :-   1.3027 \n",
      "\n",
      "69 / 312 Province: Hunan \n",
      "RMSLE :-   0.3415 \n",
      "\n",
      "70 / 312 Province: Inner Mongolia \n"
     ]
    },
    {
     "name": "stderr",
     "output_type": "stream",
     "text": [
      "Warning message in train.default(x, y, weights = w, ...):\n",
      "“You are trying to do regression and your outcome only has two possible values Are you trying to do classification? If so, use a 2 level factor as your outcome column.”\n"
     ]
    },
    {
     "name": "stdout",
     "output_type": "stream",
     "text": [
      "RMSLE :-   0.2657 \n",
      "\n",
      "71 / 312 Province: Jiangsu \n",
      "72 / 312 Province: Jiangxi \n"
     ]
    },
    {
     "name": "stderr",
     "output_type": "stream",
     "text": [
      "Warning message in train.default(x, y, weights = w, ...):\n",
      "“You are trying to do regression and your outcome only has two possible values Are you trying to do classification? If so, use a 2 level factor as your outcome column.”\n",
      "Warning message in nominalTrainWorkflow(x = x, y = y, wts = weights, info = trainInfo, :\n",
      "“There were missing values in resampled performance measures.”\n"
     ]
    },
    {
     "name": "stdout",
     "output_type": "stream",
     "text": [
      "RMSLE :-   0.1311 \n",
      "\n",
      "73 / 312 Province: Jilin \n"
     ]
    },
    {
     "name": "stderr",
     "output_type": "stream",
     "text": [
      "Warning message in train.default(x, y, weights = w, ...):\n",
      "“You are trying to do regression and your outcome only has two possible values Are you trying to do classification? If so, use a 2 level factor as your outcome column.”\n",
      "Warning message in nominalTrainWorkflow(x = x, y = y, wts = weights, info = trainInfo, :\n",
      "“There were missing values in resampled performance measures.”\n"
     ]
    },
    {
     "name": "stdout",
     "output_type": "stream",
     "text": [
      "RMSLE :-   0.0911 \n",
      "\n",
      "74 / 312 Province: Liaoning \n",
      "RMSLE :-   0.2474 \n",
      "\n",
      "75 / 312 Province: Macau \n",
      "76 / 312 Province: Ningxia \n",
      "77 / 312 Province: Qinghai \n",
      "78 / 312 Province: Shaanxi \n",
      "RMSLE :-   0.466 \n",
      "\n",
      "79 / 312 Province: Shandong \n",
      "RMSLE :-   0.3291 \n",
      "\n",
      "80 / 312 Province: Shanghai \n",
      "RMSLE :-   0.3007 \n",
      "\n",
      "81 / 312 Province: Shanxi \n",
      "82 / 312 Province: Sichuan \n",
      "RMSLE :-   0.1723 \n",
      "\n",
      "83 / 312 Province: Tianjin \n",
      "RMSLE :-   0.1857 \n",
      "\n",
      "84 / 312 Province: Tibet \n",
      "85 / 312 Province: Xinjiang \n"
     ]
    },
    {
     "name": "stderr",
     "output_type": "stream",
     "text": [
      "Warning message in nominalTrainWorkflow(x = x, y = y, wts = weights, info = trainInfo, :\n",
      "“There were missing values in resampled performance measures.”\n"
     ]
    },
    {
     "name": "stdout",
     "output_type": "stream",
     "text": [
      "RMSLE :-   0.3213 \n",
      "\n",
      "86 / 312 Province: Yunnan \n"
     ]
    },
    {
     "name": "stderr",
     "output_type": "stream",
     "text": [
      "Warning message in nominalTrainWorkflow(x = x, y = y, wts = weights, info = trainInfo, :\n",
      "“There were missing values in resampled performance measures.”\n"
     ]
    },
    {
     "name": "stdout",
     "output_type": "stream",
     "text": [
      "RMSLE :-   0.388 \n",
      "\n",
      "87 / 312 Province: Zhejiang \n"
     ]
    },
    {
     "name": "stderr",
     "output_type": "stream",
     "text": [
      "Warning message in train.default(x, y, weights = w, ...):\n",
      "“You are trying to do regression and your outcome only has two possible values Are you trying to do classification? If so, use a 2 level factor as your outcome column.”\n",
      "Warning message in nominalTrainWorkflow(x = x, y = y, wts = weights, info = trainInfo, :\n",
      "“There were missing values in resampled performance measures.”\n"
     ]
    },
    {
     "name": "stdout",
     "output_type": "stream",
     "text": [
      "RMSLE :-   0.2496 \n",
      "\n",
      "88 / 312 Province: Colombia \n",
      "RMSLE :-   0.3572 \n",
      "\n",
      "89 / 312 Province: Congo (Brazzaville) \n"
     ]
    },
    {
     "name": "stderr",
     "output_type": "stream",
     "text": [
      "Warning message in nominalTrainWorkflow(x = x, y = y, wts = weights, info = trainInfo, :\n",
      "“There were missing values in resampled performance measures.”\n"
     ]
    },
    {
     "name": "stdout",
     "output_type": "stream",
     "text": [
      "RMSLE :-   0.2329 \n",
      "\n",
      "90 / 312 Province: Congo (Kinshasa) \n",
      "RMSLE :-   0.2164 \n",
      "\n",
      "91 / 312 Province: Costa Rica \n"
     ]
    },
    {
     "name": "stderr",
     "output_type": "stream",
     "text": [
      "Warning message in nominalTrainWorkflow(x = x, y = y, wts = weights, info = trainInfo, :\n",
      "“There were missing values in resampled performance measures.”\n"
     ]
    },
    {
     "name": "stdout",
     "output_type": "stream",
     "text": [
      "RMSLE :-   0.16 \n",
      "\n",
      "92 / 312 Province: Cote d'Ivoire \n"
     ]
    },
    {
     "name": "stderr",
     "output_type": "stream",
     "text": [
      "Warning message in nominalTrainWorkflow(x = x, y = y, wts = weights, info = trainInfo, :\n",
      "“There were missing values in resampled performance measures.”\n"
     ]
    },
    {
     "name": "stdout",
     "output_type": "stream",
     "text": [
      "RMSLE :-   0.1371 \n",
      "\n",
      "93 / 312 Province: Croatia \n",
      "RMSLE :-   0.249 \n",
      "\n",
      "94 / 312 Province: Cuba \n",
      "RMSLE :-   0.1079 \n",
      "\n",
      "95 / 312 Province: Cyprus \n",
      "RMSLE :-   0.2576 \n",
      "\n",
      "96 / 312 Province: Czechia \n",
      "RMSLE :-   0.7112 \n",
      "\n",
      "97 / 312 Province: Faroe Islands \n",
      "98 / 312 Province: Greenland \n",
      "99 / 312 Province: Denmark \n",
      "RMSLE :-   0.8441 \n",
      "\n",
      "100 / 312 Province: Diamond Princess \n",
      "RMSLE :-   0.5391 \n",
      "\n",
      "101 / 312 Province: Djibouti \n"
     ]
    },
    {
     "name": "stderr",
     "output_type": "stream",
     "text": [
      "Warning message in train.default(x, y, weights = w, ...):\n",
      "“You are trying to do regression and your outcome only has two possible values Are you trying to do classification? If so, use a 2 level factor as your outcome column.”\n",
      "Warning message in bayesglm.fit(x = X, y = Y, weights = weights, start = start, :\n",
      "“prior scale for varible 1 set to min.prior.scale = 1e-12\n",
      "”\n",
      "Warning message in bayesglm.fit(x = X, y = Y, weights = weights, start = start, :\n",
      "“prior scale for varible 2 set to min.prior.scale = 1e-12\n",
      "”\n",
      "Warning message:\n",
      "“model fit failed for Fold7.Rep1: parameter=none Error in lm.fit(x = x.star[good.star, , drop = FALSE] * w.star, y = z.star *  : \n",
      "  NA/NaN/Inf in 'x'\n",
      "”\n",
      "Warning message in bayesglm.fit(x = X, y = Y, weights = weights, start = start, :\n",
      "“prior scale for varible 1 set to min.prior.scale = 1e-12\n",
      "”\n",
      "Warning message in bayesglm.fit(x = X, y = Y, weights = weights, start = start, :\n",
      "“prior scale for varible 2 set to min.prior.scale = 1e-12\n",
      "”\n",
      "Warning message:\n",
      "“model fit failed for Fold6.Rep2: parameter=none Error in lm.fit(x = x.star[good.star, , drop = FALSE] * w.star, y = z.star *  : \n",
      "  NA/NaN/Inf in 'x'\n",
      "”\n",
      "Warning message in bayesglm.fit(x = X, y = Y, weights = weights, start = start, :\n",
      "“prior scale for varible 1 set to min.prior.scale = 1e-12\n",
      "”\n",
      "Warning message in bayesglm.fit(x = X, y = Y, weights = weights, start = start, :\n",
      "“prior scale for varible 2 set to min.prior.scale = 1e-12\n",
      "”\n",
      "Warning message:\n",
      "“model fit failed for Fold7.Rep3: parameter=none Error in lm.fit(x = x.star[good.star, , drop = FALSE] * w.star, y = z.star *  : \n",
      "  NA/NaN/Inf in 'x'\n",
      "”\n",
      "Warning message in bayesglm.fit(x = X, y = Y, weights = weights, start = start, :\n",
      "“prior scale for varible 1 set to min.prior.scale = 1e-12\n",
      "”\n",
      "Warning message in bayesglm.fit(x = X, y = Y, weights = weights, start = start, :\n",
      "“prior scale for varible 2 set to min.prior.scale = 1e-12\n",
      "”\n",
      "Warning message:\n",
      "“model fit failed for Fold1.Rep4: parameter=none Error in lm.fit(x = x.star[good.star, , drop = FALSE] * w.star, y = z.star *  : \n",
      "  NA/NaN/Inf in 'x'\n",
      "”\n",
      "Warning message in bayesglm.fit(x = X, y = Y, weights = weights, start = start, :\n",
      "“prior scale for varible 1 set to min.prior.scale = 1e-12\n",
      "”\n",
      "Warning message in bayesglm.fit(x = X, y = Y, weights = weights, start = start, :\n",
      "“prior scale for varible 2 set to min.prior.scale = 1e-12\n",
      "”\n",
      "Warning message:\n",
      "“model fit failed for Fold4.Rep5: parameter=none Error in lm.fit(x = x.star[good.star, , drop = FALSE] * w.star, y = z.star *  : \n",
      "  NA/NaN/Inf in 'x'\n",
      "”\n",
      "Warning message in nominalTrainWorkflow(x = x, y = y, wts = weights, info = trainInfo, :\n",
      "“There were missing values in resampled performance measures.”\n"
     ]
    },
    {
     "name": "stdout",
     "output_type": "stream",
     "text": [
      "RMSLE :-   0.0682 \n",
      "\n",
      "102 / 312 Province: Dominica \n",
      "103 / 312 Province: Dominican Republic \n",
      "RMSLE :-   0.2523 \n",
      "\n",
      "104 / 312 Province: Ecuador \n",
      "RMSLE :-   0.3572 \n",
      "\n",
      "105 / 312 Province: Egypt \n",
      "RMSLE :-   0.2915 \n",
      "\n",
      "106 / 312 Province: El Salvador \n"
     ]
    },
    {
     "name": "stderr",
     "output_type": "stream",
     "text": [
      "Warning message in nominalTrainWorkflow(x = x, y = y, wts = weights, info = trainInfo, :\n",
      "“There were missing values in resampled performance measures.”\n"
     ]
    },
    {
     "name": "stdout",
     "output_type": "stream",
     "text": [
      "RMSLE :-   0.1778 \n",
      "\n",
      "107 / 312 Province: Equatorial Guinea \n",
      "108 / 312 Province: Eritrea \n",
      "109 / 312 Province: Estonia \n"
     ]
    },
    {
     "name": "stderr",
     "output_type": "stream",
     "text": [
      "Warning message in nominalTrainWorkflow(x = x, y = y, wts = weights, info = trainInfo, :\n",
      "“There were missing values in resampled performance measures.”\n"
     ]
    },
    {
     "name": "stdout",
     "output_type": "stream",
     "text": [
      "RMSLE :-   0.6107 \n",
      "\n",
      "110 / 312 Province: Eswatini \n",
      "111 / 312 Province: Ethiopia \n"
     ]
    },
    {
     "name": "stderr",
     "output_type": "stream",
     "text": [
      "Warning message in nominalTrainWorkflow(x = x, y = y, wts = weights, info = trainInfo, :\n",
      "“There were missing values in resampled performance measures.”\n"
     ]
    },
    {
     "name": "stdout",
     "output_type": "stream",
     "text": [
      "RMSLE :-   0.2054 \n",
      "\n",
      "112 / 312 Province: Fiji \n",
      "113 / 312 Province: Finland \n",
      "RMSLE :-   0.5687 \n",
      "\n",
      "114 / 312 Province: French Guiana \n",
      "115 / 312 Province: French Polynesia \n",
      "116 / 312 Province: Guadeloupe \n",
      "RMSLE :-   0.2981 \n",
      "\n",
      "117 / 312 Province: Martinique \n",
      "RMSLE :-   0.1678 \n",
      "\n",
      "118 / 312 Province: Mayotte \n"
     ]
    },
    {
     "name": "stderr",
     "output_type": "stream",
     "text": [
      "Warning message in nominalTrainWorkflow(x = x, y = y, wts = weights, info = trainInfo, :\n",
      "“There were missing values in resampled performance measures.”\n"
     ]
    },
    {
     "name": "stdout",
     "output_type": "stream",
     "text": [
      "RMSLE :-   0.1405 \n",
      "\n",
      "119 / 312 Province: New Caledonia \n",
      "120 / 312 Province: Reunion \n",
      "121 / 312 Province: Saint Barthelemy \n",
      "122 / 312 Province: Saint Pierre and Miquelon \n",
      "123 / 312 Province: St Martin \n"
     ]
    },
    {
     "name": "stderr",
     "output_type": "stream",
     "text": [
      "Warning message in nominalTrainWorkflow(x = x, y = y, wts = weights, info = trainInfo, :\n",
      "“There were missing values in resampled performance measures.”\n"
     ]
    },
    {
     "name": "stdout",
     "output_type": "stream",
     "text": [
      "RMSLE :-   0.1399 \n",
      "\n",
      "124 / 312 Province: France \n",
      "RMSLE :-   1.0176 \n",
      "\n",
      "125 / 312 Province: Gabon \n"
     ]
    },
    {
     "name": "stderr",
     "output_type": "stream",
     "text": [
      "Warning message in train.default(x, y, weights = w, ...):\n",
      "“You are trying to do regression and your outcome only has two possible values Are you trying to do classification? If so, use a 2 level factor as your outcome column.”\n",
      "Warning message in nominalTrainWorkflow(x = x, y = y, wts = weights, info = trainInfo, :\n",
      "“There were missing values in resampled performance measures.”\n"
     ]
    },
    {
     "name": "stdout",
     "output_type": "stream",
     "text": [
      "RMSLE :-   0.1929 \n",
      "\n",
      "126 / 312 Province: Gambia \n"
     ]
    },
    {
     "name": "stderr",
     "output_type": "stream",
     "text": [
      "Warning message in train.default(x, y, weights = w, ...):\n",
      "“You are trying to do regression and your outcome only has two possible values Are you trying to do classification? If so, use a 2 level factor as your outcome column.”\n",
      "Warning message in nominalTrainWorkflow(x = x, y = y, wts = weights, info = trainInfo, :\n",
      "“There were missing values in resampled performance measures.”\n"
     ]
    },
    {
     "name": "stdout",
     "output_type": "stream",
     "text": [
      "RMSLE :-   0.0755 \n",
      "\n",
      "127 / 312 Province: Georgia \n",
      "RMSLE :-   0.3553 \n",
      "\n",
      "128 / 312 Province: Germany \n",
      "RMSLE :-   0.6316 \n",
      "\n",
      "129 / 312 Province: Ghana \n",
      "RMSLE :-   0.198 \n",
      "\n",
      "130 / 312 Province: Greece \n",
      "RMSLE :-   0.3397 \n",
      "\n",
      "131 / 312 Province: Grenada \n",
      "132 / 312 Province: Guatemala \n",
      "RMSLE :-   0.1485 \n",
      "\n",
      "133 / 312 Province: Guinea \n",
      "134 / 312 Province: Guinea-Bissau \n",
      "135 / 312 Province: Guyana \n",
      "RMSLE :-   0.165 \n",
      "\n",
      "136 / 312 Province: Haiti \n"
     ]
    },
    {
     "name": "stderr",
     "output_type": "stream",
     "text": [
      "Warning message in nominalTrainWorkflow(x = x, y = y, wts = weights, info = trainInfo, :\n",
      "“There were missing values in resampled performance measures.”\n"
     ]
    },
    {
     "name": "stdout",
     "output_type": "stream",
     "text": [
      "RMSLE :-   0.1546 \n",
      "\n",
      "137 / 312 Province: Holy See \n",
      "138 / 312 Province: Honduras \n"
     ]
    },
    {
     "name": "stderr",
     "output_type": "stream",
     "text": [
      "Warning message in nominalTrainWorkflow(x = x, y = y, wts = weights, info = trainInfo, :\n",
      "“There were missing values in resampled performance measures.”\n"
     ]
    },
    {
     "name": "stdout",
     "output_type": "stream",
     "text": [
      "RMSLE :-   0.3307 \n",
      "\n",
      "139 / 312 Province: Hungary \n",
      "RMSLE :-   0.1813 \n",
      "\n",
      "140 / 312 Province: Iceland \n",
      "RMSLE :-   0.2329 \n",
      "\n",
      "141 / 312 Province: India \n",
      "RMSLE :-   0.1412 \n",
      "\n",
      "142 / 312 Province: Indonesia \n",
      "RMSLE :-   0.2375 \n",
      "\n",
      "143 / 312 Province: Iran \n",
      "RMSLE :-   0.7048 \n",
      "\n",
      "144 / 312 Province: Iraq \n",
      "RMSLE :-   0.6626 \n",
      "\n",
      "145 / 312 Province: Ireland \n",
      "RMSLE :-   0.5622 \n",
      "\n",
      "146 / 312 Province: Israel \n",
      "RMSLE :-   0.3335 \n",
      "\n",
      "147 / 312 Province: Italy \n",
      "RMSLE :-   1.119 \n",
      "\n",
      "148 / 312 Province: Jamaica \n",
      "RMSLE :-   0.1434 \n",
      "\n",
      "149 / 312 Province: Japan \n",
      "RMSLE :-   0.7593 \n",
      "\n",
      "150 / 312 Province: Jordan \n"
     ]
    },
    {
     "name": "stderr",
     "output_type": "stream",
     "text": [
      "Warning message in nominalTrainWorkflow(x = x, y = y, wts = weights, info = trainInfo, :\n",
      "“There were missing values in resampled performance measures.”\n"
     ]
    },
    {
     "name": "stdout",
     "output_type": "stream",
     "text": [
      "RMSLE :-   0.3524 \n",
      "\n",
      "151 / 312 Province: Kazakhstan \n"
     ]
    },
    {
     "name": "stderr",
     "output_type": "stream",
     "text": [
      "Warning message in nominalTrainWorkflow(x = x, y = y, wts = weights, info = trainInfo, :\n",
      "“There were missing values in resampled performance measures.”\n"
     ]
    },
    {
     "name": "stdout",
     "output_type": "stream",
     "text": [
      "RMSLE :-   0.2119 \n",
      "\n",
      "152 / 312 Province: Kenya \n"
     ]
    },
    {
     "name": "stderr",
     "output_type": "stream",
     "text": [
      "Warning message in nominalTrainWorkflow(x = x, y = y, wts = weights, info = trainInfo, :\n",
      "“There were missing values in resampled performance measures.”\n"
     ]
    },
    {
     "name": "stdout",
     "output_type": "stream",
     "text": [
      "RMSLE :-   0.1438 \n",
      "\n",
      "153 / 312 Province: Korea, South \n",
      "RMSLE :-   0.4271 \n",
      "\n",
      "154 / 312 Province: Kosovo \n"
     ]
    },
    {
     "name": "stderr",
     "output_type": "stream",
     "text": [
      "Warning message in nominalTrainWorkflow(x = x, y = y, wts = weights, info = trainInfo, :\n",
      "“There were missing values in resampled performance measures.”\n"
     ]
    },
    {
     "name": "stdout",
     "output_type": "stream",
     "text": [
      "RMSLE :-   0.1756 \n",
      "\n",
      "155 / 312 Province: Kuwait \n"
     ]
    },
    {
     "name": "stderr",
     "output_type": "stream",
     "text": [
      "Warning message in train.default(x, y, weights = w, ...):\n",
      "“You are trying to do regression and your outcome only has two possible values Are you trying to do classification? If so, use a 2 level factor as your outcome column.”\n",
      "Warning message in nominalTrainWorkflow(x = x, y = y, wts = weights, info = trainInfo, :\n",
      "“There were missing values in resampled performance measures.”\n"
     ]
    },
    {
     "name": "stdout",
     "output_type": "stream",
     "text": [
      "RMSLE :-   0.1027 \n",
      "\n",
      "156 / 312 Province: Kyrgyzstan \n"
     ]
    },
    {
     "name": "stderr",
     "output_type": "stream",
     "text": [
      "Warning message in nominalTrainWorkflow(x = x, y = y, wts = weights, info = trainInfo, :\n",
      "“There were missing values in resampled performance measures.”\n"
     ]
    },
    {
     "name": "stdout",
     "output_type": "stream",
     "text": [
      "RMSLE :-   0.2432 \n",
      "\n",
      "157 / 312 Province: Laos \n",
      "158 / 312 Province: Latvia \n"
     ]
    },
    {
     "name": "stderr",
     "output_type": "stream",
     "text": [
      "Warning message in nominalTrainWorkflow(x = x, y = y, wts = weights, info = trainInfo, :\n",
      "“There were missing values in resampled performance measures.”\n"
     ]
    },
    {
     "name": "stdout",
     "output_type": "stream",
     "text": [
      "RMSLE :-   0.2184 \n",
      "\n",
      "159 / 312 Province: Lebanon \n",
      "RMSLE :-   0.2015 \n",
      "\n",
      "160 / 312 Province: Liberia \n"
     ]
    },
    {
     "name": "stderr",
     "output_type": "stream",
     "text": [
      "Warning message in nominalTrainWorkflow(x = x, y = y, wts = weights, info = trainInfo, :\n",
      "“There were missing values in resampled performance measures.”\n"
     ]
    },
    {
     "name": "stdout",
     "output_type": "stream",
     "text": [
      "RMSLE :-   0.1762 \n",
      "\n",
      "161 / 312 Province: Libya \n"
     ]
    },
    {
     "name": "stderr",
     "output_type": "stream",
     "text": [
      "Warning message in train.default(x, y, weights = w, ...):\n",
      "“You are trying to do regression and your outcome only has two possible values Are you trying to do classification? If so, use a 2 level factor as your outcome column.”\n",
      "Warning message in nominalTrainWorkflow(x = x, y = y, wts = weights, info = trainInfo, :\n",
      "“There were missing values in resampled performance measures.”\n"
     ]
    },
    {
     "name": "stdout",
     "output_type": "stream",
     "text": [
      "RMSLE :-   0.0927 \n",
      "\n",
      "162 / 312 Province: Liechtenstein \n"
     ]
    },
    {
     "name": "stderr",
     "output_type": "stream",
     "text": [
      "Warning message in train.default(x, y, weights = w, ...):\n",
      "“You are trying to do regression and your outcome only has two possible values Are you trying to do classification? If so, use a 2 level factor as your outcome column.”\n",
      "Warning message in nominalTrainWorkflow(x = x, y = y, wts = weights, info = trainInfo, :\n",
      "“There were missing values in resampled performance measures.”\n"
     ]
    },
    {
     "name": "stdout",
     "output_type": "stream",
     "text": [
      "RMSLE :-   0.1553 \n",
      "\n",
      "163 / 312 Province: Lithuania \n",
      "RMSLE :-   0.1364 \n",
      "\n",
      "164 / 312 Province: Luxembourg \n",
      "RMSLE :-   0.1819 \n",
      "\n",
      "165 / 312 Province: MS Zaandam \n"
     ]
    },
    {
     "name": "stderr",
     "output_type": "stream",
     "text": [
      "Warning message in train.default(x, y, weights = w, ...):\n",
      "“You are trying to do regression and your outcome only has two possible values Are you trying to do classification? If so, use a 2 level factor as your outcome column.”\n",
      "Warning message in nominalTrainWorkflow(x = x, y = y, wts = weights, info = trainInfo, :\n",
      "“There were missing values in resampled performance measures.”\n"
     ]
    },
    {
     "name": "stdout",
     "output_type": "stream",
     "text": [
      "RMSLE :-   0.0786 \n",
      "\n",
      "166 / 312 Province: Madagascar \n",
      "167 / 312 Province: Malawi \n"
     ]
    },
    {
     "name": "stderr",
     "output_type": "stream",
     "text": [
      "Warning message in train.default(x, y, weights = w, ...):\n",
      "“You are trying to do regression and your outcome only has two possible values Are you trying to do classification? If so, use a 2 level factor as your outcome column.”\n",
      "Warning message in nominalTrainWorkflow(x = x, y = y, wts = weights, info = trainInfo, :\n",
      "“There were missing values in resampled performance measures.”\n"
     ]
    },
    {
     "name": "stdout",
     "output_type": "stream",
     "text": [
      "RMSLE :-   0.081 \n",
      "\n",
      "168 / 312 Province: Malaysia \n",
      "RMSLE :-   0.4811 \n",
      "\n",
      "169 / 312 Province: Maldives \n",
      "170 / 312 Province: Mali \n"
     ]
    },
    {
     "name": "stderr",
     "output_type": "stream",
     "text": [
      "Warning message in nominalTrainWorkflow(x = x, y = y, wts = weights, info = trainInfo, :\n",
      "“There were missing values in resampled performance measures.”\n"
     ]
    },
    {
     "name": "stdout",
     "output_type": "stream",
     "text": [
      "RMSLE :-   0.1463 \n",
      "\n",
      "171 / 312 Province: Malta \n"
     ]
    },
    {
     "name": "stderr",
     "output_type": "stream",
     "text": [
      "Warning message in nominalTrainWorkflow(x = x, y = y, wts = weights, info = trainInfo, :\n",
      "“There were missing values in resampled performance measures.”\n"
     ]
    },
    {
     "name": "stdout",
     "output_type": "stream",
     "text": [
      "RMSLE :-   0.1617 \n",
      "\n",
      "172 / 312 Province: Mauritania \n"
     ]
    },
    {
     "name": "stderr",
     "output_type": "stream",
     "text": [
      "Warning message in train.default(x, y, weights = w, ...):\n",
      "“You are trying to do regression and your outcome only has two possible values Are you trying to do classification? If so, use a 2 level factor as your outcome column.”\n",
      "Warning message in nominalTrainWorkflow(x = x, y = y, wts = weights, info = trainInfo, :\n",
      "“There were missing values in resampled performance measures.”\n"
     ]
    },
    {
     "name": "stdout",
     "output_type": "stream",
     "text": [
      "RMSLE :-   0.1241 \n",
      "\n",
      "173 / 312 Province: Mauritius \n",
      "RMSLE :-   0.1353 \n",
      "\n",
      "174 / 312 Province: Mexico \n",
      "RMSLE :-   0.4034 \n",
      "\n",
      "175 / 312 Province: Moldova \n",
      "RMSLE :-   0.2166 \n",
      "\n",
      "176 / 312 Province: Monaco \n"
     ]
    },
    {
     "name": "stderr",
     "output_type": "stream",
     "text": [
      "Warning message in train.default(x, y, weights = w, ...):\n",
      "“You are trying to do regression and your outcome only has two possible values Are you trying to do classification? If so, use a 2 level factor as your outcome column.”\n",
      "Warning message in nominalTrainWorkflow(x = x, y = y, wts = weights, info = trainInfo, :\n",
      "“There were missing values in resampled performance measures.”\n"
     ]
    },
    {
     "name": "stdout",
     "output_type": "stream",
     "text": [
      "RMSLE :-   0.1116 \n",
      "\n",
      "177 / 312 Province: Mongolia \n",
      "178 / 312 Province: Montenegro \n"
     ]
    },
    {
     "name": "stderr",
     "output_type": "stream",
     "text": [
      "Warning message in nominalTrainWorkflow(x = x, y = y, wts = weights, info = trainInfo, :\n",
      "“There were missing values in resampled performance measures.”\n"
     ]
    },
    {
     "name": "stdout",
     "output_type": "stream",
     "text": [
      "RMSLE :-   0.1104 \n",
      "\n",
      "179 / 312 Province: Morocco \n",
      "RMSLE :-   0.2481 \n",
      "\n",
      "180 / 312 Province: Mozambique \n",
      "181 / 312 Province: Namibia \n",
      "182 / 312 Province: Nepal \n",
      "183 / 312 Province: Aruba \n",
      "184 / 312 Province: Bonaire, Sint Eustatius and Saba \n",
      "185 / 312 Province: Curacao \n"
     ]
    },
    {
     "name": "stderr",
     "output_type": "stream",
     "text": [
      "Warning message in train.default(x, y, weights = w, ...):\n",
      "“You are trying to do regression and your outcome only has two possible values Are you trying to do classification? If so, use a 2 level factor as your outcome column.”\n",
      "Warning message in nominalTrainWorkflow(x = x, y = y, wts = weights, info = trainInfo, :\n",
      "“There were missing values in resampled performance measures.”\n"
     ]
    },
    {
     "name": "stdout",
     "output_type": "stream",
     "text": [
      "RMSLE :-   0.1339 \n",
      "\n",
      "186 / 312 Province: Sint Maarten \n"
     ]
    },
    {
     "name": "stderr",
     "output_type": "stream",
     "text": [
      "Warning message in nominalTrainWorkflow(x = x, y = y, wts = weights, info = trainInfo, :\n",
      "“There were missing values in resampled performance measures.”\n"
     ]
    },
    {
     "name": "stdout",
     "output_type": "stream",
     "text": [
      "RMSLE :-   0.1649 \n",
      "\n",
      "187 / 312 Province: Netherlands \n",
      "RMSLE :-   0.5075 \n",
      "\n",
      "188 / 312 Province: New Zealand \n"
     ]
    },
    {
     "name": "stderr",
     "output_type": "stream",
     "text": [
      "Warning message in nominalTrainWorkflow(x = x, y = y, wts = weights, info = trainInfo, :\n",
      "“There were missing values in resampled performance measures.”\n"
     ]
    },
    {
     "name": "stdout",
     "output_type": "stream",
     "text": [
      "RMSLE :-   0.0924 \n",
      "\n",
      "189 / 312 Province: Nicaragua \n"
     ]
    },
    {
     "name": "stderr",
     "output_type": "stream",
     "text": [
      "Warning message in train.default(x, y, weights = w, ...):\n",
      "“You are trying to do regression and your outcome only has two possible values Are you trying to do classification? If so, use a 2 level factor as your outcome column.”\n",
      "Warning message in nominalTrainWorkflow(x = x, y = y, wts = weights, info = trainInfo, :\n",
      "“There were missing values in resampled performance measures.”\n"
     ]
    },
    {
     "name": "stdout",
     "output_type": "stream",
     "text": [
      "RMSLE :-   0.1031 \n",
      "\n",
      "190 / 312 Province: Niger \n"
     ]
    },
    {
     "name": "stderr",
     "output_type": "stream",
     "text": [
      "Warning message in nominalTrainWorkflow(x = x, y = y, wts = weights, info = trainInfo, :\n",
      "“There were missing values in resampled performance measures.”\n"
     ]
    },
    {
     "name": "stdout",
     "output_type": "stream",
     "text": [
      "RMSLE :-   0.2462 \n",
      "\n",
      "191 / 312 Province: Nigeria \n"
     ]
    },
    {
     "name": "stderr",
     "output_type": "stream",
     "text": [
      "Warning message in nominalTrainWorkflow(x = x, y = y, wts = weights, info = trainInfo, :\n",
      "“There were missing values in resampled performance measures.”\n"
     ]
    },
    {
     "name": "stdout",
     "output_type": "stream",
     "text": [
      "RMSLE :-   0.1222 \n",
      "\n",
      "192 / 312 Province: North Macedonia \n",
      "RMSLE :-   0.3146 \n",
      "\n",
      "193 / 312 Province: Norway \n",
      "RMSLE :-   0.5743 \n",
      "\n",
      "194 / 312 Province: Oman \n"
     ]
    },
    {
     "name": "stderr",
     "output_type": "stream",
     "text": [
      "Warning message in nominalTrainWorkflow(x = x, y = y, wts = weights, info = trainInfo, :\n",
      "“There were missing values in resampled performance measures.”\n"
     ]
    },
    {
     "name": "stdout",
     "output_type": "stream",
     "text": [
      "RMSLE :-   0.1596 \n",
      "\n",
      "195 / 312 Province: Pakistan \n",
      "RMSLE :-   0.3101 \n",
      "\n",
      "196 / 312 Province: Panama \n",
      "RMSLE :-   0.2417 \n",
      "\n",
      "197 / 312 Province: Papua New Guinea \n",
      "198 / 312 Province: Paraguay \n",
      "RMSLE :-   0.1458 \n",
      "\n",
      "199 / 312 Province: Peru \n",
      "RMSLE :-   0.4224 \n",
      "\n",
      "200 / 312 Province: Philippines \n",
      "RMSLE :-   0.5125 \n",
      "\n",
      "201 / 312 Province: Poland \n",
      "RMSLE :-   0.3623 \n",
      "\n",
      "202 / 312 Province: Portugal \n",
      "RMSLE :-   0.3826 \n",
      "\n",
      "203 / 312 Province: Qatar \n"
     ]
    },
    {
     "name": "stderr",
     "output_type": "stream",
     "text": [
      "Warning message in nominalTrainWorkflow(x = x, y = y, wts = weights, info = trainInfo, :\n",
      "“There were missing values in resampled performance measures.”\n"
     ]
    },
    {
     "name": "stdout",
     "output_type": "stream",
     "text": [
      "RMSLE :-   0.2916 \n",
      "\n",
      "204 / 312 Province: Romania \n",
      "RMSLE :-   0.6417 \n",
      "\n",
      "205 / 312 Province: Russia \n",
      "RMSLE :-   0.2165 \n",
      "\n",
      "206 / 312 Province: Rwanda \n",
      "207 / 312 Province: Saint Kitts and Nevis \n",
      "208 / 312 Province: Saint Lucia \n",
      "209 / 312 Province: Saint Vincent and the Grenadines \n",
      "210 / 312 Province: San Marino \n",
      "RMSLE :-   0.2445 \n",
      "\n",
      "211 / 312 Province: Sao Tome and Principe \n",
      "212 / 312 Province: Saudi Arabia \n"
     ]
    },
    {
     "name": "stderr",
     "output_type": "stream",
     "text": [
      "Warning message in nominalTrainWorkflow(x = x, y = y, wts = weights, info = trainInfo, :\n",
      "“There were missing values in resampled performance measures.”\n"
     ]
    },
    {
     "name": "stdout",
     "output_type": "stream",
     "text": [
      "RMSLE :-   0.5364 \n",
      "\n",
      "213 / 312 Province: Senegal \n"
     ]
    },
    {
     "name": "stderr",
     "output_type": "stream",
     "text": [
      "Warning message in nominalTrainWorkflow(x = x, y = y, wts = weights, info = trainInfo, :\n",
      "“There were missing values in resampled performance measures.”\n"
     ]
    },
    {
     "name": "stdout",
     "output_type": "stream",
     "text": [
      "RMSLE :-   0.1961 \n",
      "\n",
      "214 / 312 Province: Serbia \n",
      "RMSLE :-   0.3689 \n",
      "\n",
      "215 / 312 Province: Seychelles \n",
      "216 / 312 Province: Sierra Leone \n",
      "217 / 312 Province: Singapore \n",
      "RMSLE :-   0.2079 \n",
      "\n",
      "218 / 312 Province: Slovakia \n"
     ]
    },
    {
     "name": "stderr",
     "output_type": "stream",
     "text": [
      "Warning message in nominalTrainWorkflow(x = x, y = y, wts = weights, info = trainInfo, :\n",
      "“There were missing values in resampled performance measures.”\n"
     ]
    },
    {
     "name": "stdout",
     "output_type": "stream",
     "text": [
      "RMSLE :-   0.2012 \n",
      "\n",
      "219 / 312 Province: Slovenia \n",
      "RMSLE :-   0.5046 \n",
      "\n",
      "220 / 312 Province: Somalia \n"
     ]
    },
    {
     "name": "stderr",
     "output_type": "stream",
     "text": [
      "Warning message in train.default(x, y, weights = w, ...):\n",
      "“You are trying to do regression and your outcome only has two possible values Are you trying to do classification? If so, use a 2 level factor as your outcome column.”\n",
      "Warning message in nominalTrainWorkflow(x = x, y = y, wts = weights, info = trainInfo, :\n",
      "“There were missing values in resampled performance measures.”\n"
     ]
    },
    {
     "name": "stdout",
     "output_type": "stream",
     "text": [
      "RMSLE :-   0.0883 \n",
      "\n",
      "221 / 312 Province: South Africa \n"
     ]
    },
    {
     "name": "stderr",
     "output_type": "stream",
     "text": [
      "Warning message in nominalTrainWorkflow(x = x, y = y, wts = weights, info = trainInfo, :\n",
      "“There were missing values in resampled performance measures.”\n"
     ]
    },
    {
     "name": "stdout",
     "output_type": "stream",
     "text": [
      "RMSLE :-   0.4788 \n",
      "\n",
      "222 / 312 Province: South Sudan \n",
      "223 / 312 Province: Spain \n",
      "RMSLE :-   0.7927 \n",
      "\n",
      "224 / 312 Province: Sri Lanka \n"
     ]
    },
    {
     "name": "stderr",
     "output_type": "stream",
     "text": [
      "Warning message in nominalTrainWorkflow(x = x, y = y, wts = weights, info = trainInfo, :\n",
      "“There were missing values in resampled performance measures.”\n"
     ]
    },
    {
     "name": "stdout",
     "output_type": "stream",
     "text": [
      "RMSLE :-   0.4036 \n",
      "\n",
      "225 / 312 Province: Sudan \n",
      "RMSLE :-   0.1999 \n",
      "\n",
      "226 / 312 Province: Suriname \n"
     ]
    },
    {
     "name": "stderr",
     "output_type": "stream",
     "text": [
      "Warning message in train.default(x, y, weights = w, ...):\n",
      "“You are trying to do regression and your outcome only has two possible values Are you trying to do classification? If so, use a 2 level factor as your outcome column.”\n",
      "Warning message in nominalTrainWorkflow(x = x, y = y, wts = weights, info = trainInfo, :\n",
      "“There were missing values in resampled performance measures.”\n"
     ]
    },
    {
     "name": "stdout",
     "output_type": "stream",
     "text": [
      "RMSLE :-   0.1597 \n",
      "\n",
      "227 / 312 Province: Sweden \n",
      "RMSLE :-   0.8504 \n",
      "\n",
      "228 / 312 Province: Switzerland \n",
      "RMSLE :-   0.5276 \n",
      "\n",
      "229 / 312 Province: Syria \n"
     ]
    },
    {
     "name": "stderr",
     "output_type": "stream",
     "text": [
      "Warning message in nominalTrainWorkflow(x = x, y = y, wts = weights, info = trainInfo, :\n",
      "“There were missing values in resampled performance measures.”\n"
     ]
    },
    {
     "name": "stdout",
     "output_type": "stream",
     "text": [
      "RMSLE :-   0.1227 \n",
      "\n",
      "230 / 312 Province: Taiwan* \n",
      "RMSLE :-   0.2339 \n",
      "\n",
      "231 / 312 Province: Tanzania \n"
     ]
    },
    {
     "name": "stderr",
     "output_type": "stream",
     "text": [
      "Warning message in nominalTrainWorkflow(x = x, y = y, wts = weights, info = trainInfo, :\n",
      "“There were missing values in resampled performance measures.”\n"
     ]
    },
    {
     "name": "stdout",
     "output_type": "stream",
     "text": [
      "RMSLE :-   0.1629 \n",
      "\n",
      "232 / 312 Province: Thailand \n",
      "RMSLE :-   0.4241 \n",
      "\n",
      "233 / 312 Province: Timor-Leste \n",
      "234 / 312 Province: Togo \n"
     ]
    },
    {
     "name": "stderr",
     "output_type": "stream",
     "text": [
      "Warning message in nominalTrainWorkflow(x = x, y = y, wts = weights, info = trainInfo, :\n",
      "“There were missing values in resampled performance measures.”\n"
     ]
    },
    {
     "name": "stdout",
     "output_type": "stream",
     "text": [
      "RMSLE :-   0.1861 \n",
      "\n",
      "235 / 312 Province: Trinidad and Tobago \n"
     ]
    },
    {
     "name": "stderr",
     "output_type": "stream",
     "text": [
      "Warning message in nominalTrainWorkflow(x = x, y = y, wts = weights, info = trainInfo, :\n",
      "“There were missing values in resampled performance measures.”\n"
     ]
    },
    {
     "name": "stdout",
     "output_type": "stream",
     "text": [
      "RMSLE :-   0.3394 \n",
      "\n",
      "236 / 312 Province: Tunisia \n",
      "RMSLE :-   0.1426 \n",
      "\n",
      "237 / 312 Province: Turkey \n",
      "RMSLE :-   0.1768 \n",
      "\n",
      "238 / 312 Province: Alabama \n"
     ]
    },
    {
     "name": "stderr",
     "output_type": "stream",
     "text": [
      "Warning message in nominalTrainWorkflow(x = x, y = y, wts = weights, info = trainInfo, :\n",
      "“There were missing values in resampled performance measures.”\n"
     ]
    },
    {
     "name": "stdout",
     "output_type": "stream",
     "text": [
      "RMSLE :-   0.5029 \n",
      "\n",
      "239 / 312 Province: Alaska \n"
     ]
    },
    {
     "name": "stderr",
     "output_type": "stream",
     "text": [
      "Warning message in nominalTrainWorkflow(x = x, y = y, wts = weights, info = trainInfo, :\n",
      "“There were missing values in resampled performance measures.”\n"
     ]
    },
    {
     "name": "stdout",
     "output_type": "stream",
     "text": [
      "RMSLE :-   0.1312 \n",
      "\n",
      "240 / 312 Province: Arizona \n",
      "RMSLE :-   0.1749 \n",
      "\n",
      "241 / 312 Province: Arkansas \n"
     ]
    },
    {
     "name": "stderr",
     "output_type": "stream",
     "text": [
      "Warning message in nominalTrainWorkflow(x = x, y = y, wts = weights, info = trainInfo, :\n",
      "“There were missing values in resampled performance measures.”\n"
     ]
    },
    {
     "name": "stdout",
     "output_type": "stream",
     "text": [
      "RMSLE :-   0.3064 \n",
      "\n",
      "242 / 312 Province: California \n",
      "RMSLE :-   0.1963 \n",
      "\n",
      "243 / 312 Province: Colorado \n",
      "RMSLE :-   0.2585 \n",
      "\n",
      "244 / 312 Province: Connecticut \n",
      "RMSLE :-   0.1874 \n",
      "\n",
      "245 / 312 Province: Delaware \n"
     ]
    },
    {
     "name": "stderr",
     "output_type": "stream",
     "text": [
      "Warning message in nominalTrainWorkflow(x = x, y = y, wts = weights, info = trainInfo, :\n",
      "“There were missing values in resampled performance measures.”\n"
     ]
    },
    {
     "name": "stdout",
     "output_type": "stream",
     "text": [
      "RMSLE :-   0.2856 \n",
      "\n",
      "246 / 312 Province: District of Columbia \n",
      "RMSLE :-   0.1401 \n",
      "\n",
      "247 / 312 Province: Florida \n",
      "RMSLE :-   0.4313 \n",
      "\n",
      "248 / 312 Province: Guam \n",
      "RMSLE :-   0.1146 \n",
      "\n",
      "249 / 312 Province: Hawaii \n"
     ]
    },
    {
     "name": "stderr",
     "output_type": "stream",
     "text": [
      "Warning message in nominalTrainWorkflow(x = x, y = y, wts = weights, info = trainInfo, :\n",
      "“There were missing values in resampled performance measures.”\n"
     ]
    },
    {
     "name": "stdout",
     "output_type": "stream",
     "text": [
      "RMSLE :-   0.2761 \n",
      "\n",
      "250 / 312 Province: Idaho \n"
     ]
    },
    {
     "name": "stderr",
     "output_type": "stream",
     "text": [
      "Warning message in nominalTrainWorkflow(x = x, y = y, wts = weights, info = trainInfo, :\n",
      "“There were missing values in resampled performance measures.”\n"
     ]
    },
    {
     "name": "stdout",
     "output_type": "stream",
     "text": [
      "RMSLE :-   0.1824 \n",
      "\n",
      "251 / 312 Province: Illinois \n",
      "RMSLE :-   0.3018 \n",
      "\n",
      "252 / 312 Province: Indiana \n",
      "RMSLE :-   0.2584 \n",
      "\n",
      "253 / 312 Province: Iowa \n"
     ]
    },
    {
     "name": "stderr",
     "output_type": "stream",
     "text": [
      "Warning message in nominalTrainWorkflow(x = x, y = y, wts = weights, info = trainInfo, :\n",
      "“There were missing values in resampled performance measures.”\n"
     ]
    },
    {
     "name": "stdout",
     "output_type": "stream",
     "text": [
      "RMSLE :-   0.279 \n",
      "\n",
      "254 / 312 Province: Kansas \n",
      "RMSLE :-   0.2215 \n",
      "\n",
      "255 / 312 Province: Kentucky \n",
      "RMSLE :-   0.2579 \n",
      "\n",
      "256 / 312 Province: Louisiana \n",
      "RMSLE :-   0.2512 \n",
      "\n",
      "257 / 312 Province: Maine \n"
     ]
    },
    {
     "name": "stderr",
     "output_type": "stream",
     "text": [
      "Warning message in nominalTrainWorkflow(x = x, y = y, wts = weights, info = trainInfo, :\n",
      "“There were missing values in resampled performance measures.”\n"
     ]
    },
    {
     "name": "stdout",
     "output_type": "stream",
     "text": [
      "RMSLE :-   0.3761 \n",
      "\n",
      "258 / 312 Province: Maryland \n",
      "RMSLE :-   0.2681 \n",
      "\n",
      "259 / 312 Province: Massachusetts \n",
      "RMSLE :-   0.2742 \n",
      "\n",
      "260 / 312 Province: Michigan \n",
      "RMSLE :-   0.348 \n",
      "\n",
      "261 / 312 Province: Minnesota \n",
      "RMSLE :-   0.4409 \n",
      "\n",
      "262 / 312 Province: Mississippi \n",
      "RMSLE :-   0.3249 \n",
      "\n",
      "263 / 312 Province: Missouri \n",
      "RMSLE :-   0.2467 \n",
      "\n",
      "264 / 312 Province: Montana \n"
     ]
    },
    {
     "name": "stderr",
     "output_type": "stream",
     "text": [
      "Warning message in nominalTrainWorkflow(x = x, y = y, wts = weights, info = trainInfo, :\n",
      "“There were missing values in resampled performance measures.”\n"
     ]
    },
    {
     "name": "stdout",
     "output_type": "stream",
     "text": [
      "RMSLE :-   0.2205 \n",
      "\n",
      "265 / 312 Province: Nebraska \n"
     ]
    },
    {
     "name": "stderr",
     "output_type": "stream",
     "text": [
      "Warning message in nominalTrainWorkflow(x = x, y = y, wts = weights, info = trainInfo, :\n",
      "“There were missing values in resampled performance measures.”\n"
     ]
    },
    {
     "name": "stdout",
     "output_type": "stream",
     "text": [
      "RMSLE :-   0.2479 \n",
      "\n",
      "266 / 312 Province: Nevada \n",
      "RMSLE :-   0.1917 \n",
      "\n",
      "267 / 312 Province: New Hampshire \n",
      "RMSLE :-   0.2071 \n",
      "\n",
      "268 / 312 Province: New Jersey \n",
      "RMSLE :-   0.5083 \n",
      "\n",
      "269 / 312 Province: New Mexico \n"
     ]
    },
    {
     "name": "stderr",
     "output_type": "stream",
     "text": [
      "Warning message in nominalTrainWorkflow(x = x, y = y, wts = weights, info = trainInfo, :\n",
      "“There were missing values in resampled performance measures.”\n"
     ]
    },
    {
     "name": "stdout",
     "output_type": "stream",
     "text": [
      "RMSLE :-   0.2092 \n",
      "\n",
      "270 / 312 Province: New York \n",
      "RMSLE :-   0.7122 \n",
      "\n",
      "271 / 312 Province: North Carolina \n"
     ]
    },
    {
     "name": "stderr",
     "output_type": "stream",
     "text": [
      "Warning message in nominalTrainWorkflow(x = x, y = y, wts = weights, info = trainInfo, :\n",
      "“There were missing values in resampled performance measures.”\n"
     ]
    },
    {
     "name": "stdout",
     "output_type": "stream",
     "text": [
      "RMSLE :-   0.4854 \n",
      "\n",
      "272 / 312 Province: North Dakota \n"
     ]
    },
    {
     "name": "stderr",
     "output_type": "stream",
     "text": [
      "Warning message in nominalTrainWorkflow(x = x, y = y, wts = weights, info = trainInfo, :\n",
      "“There were missing values in resampled performance measures.”\n"
     ]
    },
    {
     "name": "stdout",
     "output_type": "stream",
     "text": [
      "RMSLE :-   0.1456 \n",
      "\n",
      "273 / 312 Province: Ohio \n",
      "RMSLE :-   0.249 \n",
      "\n",
      "274 / 312 Province: Oklahoma \n",
      "RMSLE :-   0.1181 \n",
      "\n",
      "275 / 312 Province: Oregon \n",
      "RMSLE :-   0.1505 \n",
      "\n",
      "276 / 312 Province: Pennsylvania \n",
      "RMSLE :-   0.1705 \n",
      "\n",
      "277 / 312 Province: Puerto Rico \n",
      "RMSLE :-   0.1032 \n",
      "\n",
      "278 / 312 Province: Rhode Island \n"
     ]
    },
    {
     "name": "stderr",
     "output_type": "stream",
     "text": [
      "Warning message in nominalTrainWorkflow(x = x, y = y, wts = weights, info = trainInfo, :\n",
      "“There were missing values in resampled performance measures.”\n"
     ]
    },
    {
     "name": "stdout",
     "output_type": "stream",
     "text": [
      "RMSLE :-   0.3943 \n",
      "\n",
      "279 / 312 Province: South Carolina \n",
      "RMSLE :-   0.1068 \n",
      "\n",
      "280 / 312 Province: South Dakota \n",
      "RMSLE :-   0.2233 \n",
      "\n",
      "281 / 312 Province: Tennessee \n",
      "RMSLE :-   0.4261 \n",
      "\n",
      "282 / 312 Province: Texas \n",
      "RMSLE :-   0.1432 \n",
      "\n",
      "283 / 312 Province: Utah \n",
      "RMSLE :-   0.191 \n",
      "\n",
      "284 / 312 Province: Vermont \n",
      "RMSLE :-   0.2663 \n",
      "\n",
      "285 / 312 Province: Virgin Islands \n"
     ]
    },
    {
     "name": "stderr",
     "output_type": "stream",
     "text": [
      "Warning message in train.default(x, y, weights = w, ...):\n",
      "“You are trying to do regression and your outcome only has two possible values Are you trying to do classification? If so, use a 2 level factor as your outcome column.”\n",
      "Warning message in nominalTrainWorkflow(x = x, y = y, wts = weights, info = trainInfo, :\n",
      "“There were missing values in resampled performance measures.”\n"
     ]
    },
    {
     "name": "stdout",
     "output_type": "stream",
     "text": [
      "RMSLE :-   0.13 \n",
      "\n",
      "286 / 312 Province: Virginia \n",
      "RMSLE :-   0.1159 \n",
      "\n",
      "287 / 312 Province: Washington \n",
      "RMSLE :-   0.7931 \n",
      "\n",
      "288 / 312 Province: West Virginia \n"
     ]
    },
    {
     "name": "stderr",
     "output_type": "stream",
     "text": [
      "Warning message in nominalTrainWorkflow(x = x, y = y, wts = weights, info = trainInfo, :\n",
      "“There were missing values in resampled performance measures.”\n"
     ]
    },
    {
     "name": "stdout",
     "output_type": "stream",
     "text": [
      "RMSLE :-   0.1344 \n",
      "\n",
      "289 / 312 Province: Wisconsin \n",
      "RMSLE :-   0.3229 \n",
      "\n",
      "290 / 312 Province: Wyoming \n",
      "291 / 312 Province: Uganda \n",
      "292 / 312 Province: Ukraine \n",
      "RMSLE :-   0.2549 \n",
      "\n",
      "293 / 312 Province: United Arab Emirates \n",
      "RMSLE :-   0.2584 \n",
      "\n",
      "294 / 312 Province: Anguilla \n",
      "295 / 312 Province: Bermuda \n"
     ]
    },
    {
     "name": "stderr",
     "output_type": "stream",
     "text": [
      "Warning message in nominalTrainWorkflow(x = x, y = y, wts = weights, info = trainInfo, :\n",
      "“There were missing values in resampled performance measures.”\n"
     ]
    },
    {
     "name": "stdout",
     "output_type": "stream",
     "text": [
      "RMSLE :-   0.2816 \n",
      "\n",
      "296 / 312 Province: British Virgin Islands \n",
      "297 / 312 Province: Cayman Islands \n"
     ]
    },
    {
     "name": "stderr",
     "output_type": "stream",
     "text": [
      "Warning message in train.default(x, y, weights = w, ...):\n",
      "“You are trying to do regression and your outcome only has two possible values Are you trying to do classification? If so, use a 2 level factor as your outcome column.”\n",
      "Warning message in nominalTrainWorkflow(x = x, y = y, wts = weights, info = trainInfo, :\n",
      "“There were missing values in resampled performance measures.”\n"
     ]
    },
    {
     "name": "stdout",
     "output_type": "stream",
     "text": [
      "RMSLE :-   0.2357 \n",
      "\n",
      "298 / 312 Province: Channel Islands \n"
     ]
    },
    {
     "name": "stderr",
     "output_type": "stream",
     "text": [
      "Warning message in nominalTrainWorkflow(x = x, y = y, wts = weights, info = trainInfo, :\n",
      "“There were missing values in resampled performance measures.”\n"
     ]
    },
    {
     "name": "stdout",
     "output_type": "stream",
     "text": [
      "RMSLE :-   0.1449 \n",
      "\n",
      "299 / 312 Province: Falkland Islands (Malvinas) \n",
      "300 / 312 Province: Gibraltar \n",
      "301 / 312 Province: Isle of Man \n"
     ]
    },
    {
     "name": "stderr",
     "output_type": "stream",
     "text": [
      "Warning message in train.default(x, y, weights = w, ...):\n",
      "“You are trying to do regression and your outcome only has two possible values Are you trying to do classification? If so, use a 2 level factor as your outcome column.”\n",
      "Warning message in nominalTrainWorkflow(x = x, y = y, wts = weights, info = trainInfo, :\n",
      "“There were missing values in resampled performance measures.”\n"
     ]
    },
    {
     "name": "stdout",
     "output_type": "stream",
     "text": [
      "RMSLE :-   0.0853 \n",
      "\n",
      "302 / 312 Province: Montserrat \n",
      "303 / 312 Province: Turks and Caicos Islands \n"
     ]
    },
    {
     "name": "stderr",
     "output_type": "stream",
     "text": [
      "Warning message in train.default(x, y, weights = w, ...):\n",
      "“You are trying to do regression and your outcome only has two possible values Are you trying to do classification? If so, use a 2 level factor as your outcome column.”\n",
      "Warning message in nominalTrainWorkflow(x = x, y = y, wts = weights, info = trainInfo, :\n",
      "“There were missing values in resampled performance measures.”\n"
     ]
    },
    {
     "name": "stdout",
     "output_type": "stream",
     "text": [
      "RMSLE :-   0.1229 \n",
      "\n",
      "304 / 312 Province: United Kingdom \n",
      "RMSLE :-   0.6637 \n",
      "\n",
      "305 / 312 Province: Uruguay \n"
     ]
    },
    {
     "name": "stderr",
     "output_type": "stream",
     "text": [
      "Warning message in nominalTrainWorkflow(x = x, y = y, wts = weights, info = trainInfo, :\n",
      "“There were missing values in resampled performance measures.”\n"
     ]
    },
    {
     "name": "stdout",
     "output_type": "stream",
     "text": [
      "RMSLE :-   0.3867 \n",
      "\n",
      "306 / 312 Province: Uzbekistan \n"
     ]
    },
    {
     "name": "stderr",
     "output_type": "stream",
     "text": [
      "Warning message in nominalTrainWorkflow(x = x, y = y, wts = weights, info = trainInfo, :\n",
      "“There were missing values in resampled performance measures.”\n"
     ]
    },
    {
     "name": "stdout",
     "output_type": "stream",
     "text": [
      "RMSLE :-   0.1709 \n",
      "\n",
      "307 / 312 Province: Venezuela \n"
     ]
    },
    {
     "name": "stderr",
     "output_type": "stream",
     "text": [
      "Warning message in nominalTrainWorkflow(x = x, y = y, wts = weights, info = trainInfo, :\n",
      "“There were missing values in resampled performance measures.”\n"
     ]
    },
    {
     "name": "stdout",
     "output_type": "stream",
     "text": [
      "RMSLE :-   0.4281 \n",
      "\n",
      "308 / 312 Province: Vietnam \n",
      "309 / 312 Province: West Bank and Gaza \n"
     ]
    },
    {
     "name": "stderr",
     "output_type": "stream",
     "text": [
      "Warning message in nominalTrainWorkflow(x = x, y = y, wts = weights, info = trainInfo, :\n",
      "“There were missing values in resampled performance measures.”\n"
     ]
    },
    {
     "name": "stdout",
     "output_type": "stream",
     "text": [
      "RMSLE :-   0.1251 \n",
      "\n",
      "310 / 312 Province: Western Sahara \n",
      "311 / 312 Province: Zambia \n"
     ]
    },
    {
     "name": "stderr",
     "output_type": "stream",
     "text": [
      "Warning message in nominalTrainWorkflow(x = x, y = y, wts = weights, info = trainInfo, :\n",
      "“There were missing values in resampled performance measures.”\n"
     ]
    },
    {
     "name": "stdout",
     "output_type": "stream",
     "text": [
      "RMSLE :-   0.152 \n",
      "\n",
      "312 / 312 Province: Zimbabwe \n"
     ]
    },
    {
     "name": "stderr",
     "output_type": "stream",
     "text": [
      "Warning message in nominalTrainWorkflow(x = x, y = y, wts = weights, info = trainInfo, :\n",
      "“There were missing values in resampled performance measures.”\n"
     ]
    },
    {
     "name": "stdout",
     "output_type": "stream",
     "text": [
      "RMSLE :-   0.1305 \n",
      "\n"
     ]
    }
   ],
   "source": [
    "## Foresting\n",
    "\n",
    "for(states in 1:state_len){\n",
    "\n",
    "  cat(states, \"/\", state_len, \"Province:\", unique_state_train[[\"Province_State\"]][states], \"\\n\")\n",
    "\n",
    "  train <- covid_data_train %>% dplyr::filter(covid_data_train[[\"Province_State\"]] == unique_state_train[[\"Province_State\"]][states] ) %>%\n",
    "    arrange(Date) \n",
    "  \n",
    "  test <- covid_data_test %>% dplyr::filter(covid_data_test[[\"Province_State\"]] == unique_state_train[[\"Province_State\"]][states]) %>%\n",
    "    arrange(Date)\n",
    "  \n",
    "  \n",
    "  ## Confirm Case Forecasting\n",
    "  \n",
    "  if (all(train$ConfirmedCases == 0)) {\n",
    "    \n",
    "    covid_data_submission[[\"ConfirmedCases\"]][covid_data_submission[[\"ForecastId\"]] %in% test[[\"ForecastId\"]]] <- 0\n",
    "    covid_data_submission[[\"Fatalities\"]][covid_data_submission[[\"ForecastId\"]] %in% test[[\"ForecastId\"]]] <- 0\n",
    "    \n",
    "    next()\n",
    "    \n",
    "  } else {\n",
    "    \n",
    "    ts.cc.train <- ts(train$ConfirmedCases, start = decimal_date(as.Date(\"2020-01-22\")), frequency = 365.25)\n",
    "    \n",
    "    fit.cc <-  Arima(ts.cc.train, order = c(2,2,2), seasonal = list(order = c(1,1,0), period = 12), method = \"ML\",\n",
    "                     optim.method = \"BFGS\")\n",
    "    \n",
    "    \n",
    "    forecast.cc <- forecast(fit.cc, h=43, level=c(99.5))\n",
    "    \n",
    "    for(i in 1:43){\n",
    "      test$ConfirmedCases[i] <- ifelse(forecast.cc[[\"upper\"]][i] > 0, as.numeric(round(forecast.cc[[\"upper\"]][i])), 0)\n",
    "    }\n",
    "    \n",
    "    covid_data_submission[[\"ConfirmedCases\"]][covid_data_submission[[\"ForecastId\"]] %in% test[[\"ForecastId\"]]] <-\n",
    "      ifelse(forecast.cc[[\"upper\"]] > 0, round(forecast.cc[[\"upper\"]]), 0)\n",
    "    \n",
    "    rm(forecast.cc)\n",
    "  }\n",
    "\n",
    "  ### Fatalities Forecasting\n",
    "  \n",
    "  if (all(train$Fatalities == 0)) {\n",
    "    \n",
    "    covid_data_submission[[\"Fatalities\"]][covid_data_submission[[\"ForecastId\"]] %in% test[[\"ForecastId\"]]] <- 0\n",
    "    next()\n",
    "    \n",
    "  } else {\n",
    "    \n",
    "    fit.fat <- train(form=as.formula(\"Fatalities ~ ConfirmedCases\"),\n",
    "                     data = train,\n",
    "                     method = \"bayesglm\",\n",
    "                     trControl=trainControl(method=\"repeatedcv\", number=8, repeats=5))\n",
    "    \n",
    "    preds <- predict(fit.fat, test)\n",
    "    test$Fatalities <- ifelse(preds > 0, as.numeric(round(preds)), 0)\n",
    "    covid_data_submission[[\"Fatalities\"]][covid_data_submission[[\"ForecastId\"]] %in% test[[\"ForecastId\"]]] <- ifelse(preds > 0, round(preds), 0)\n",
    "    \n",
    "    preds2 <- predict(fit.fat, train)\n",
    "    preds2[preds2 < 0] <- 0\n",
    "    cat(\"RMSLE :-  \", round(rmsle(train$Fatalities, preds2), 4), \"\\n\\n\")\n",
    "    \n",
    "    rm(preds)\n",
    "    rm(preds2)\n",
    "    \n",
    "  }\n",
    "  \n",
    "}\n"
   ]
  },
  {
   "cell_type": "code",
   "execution_count": 18,
   "metadata": {},
   "outputs": [
    {
     "name": "stdout",
     "output_type": "stream",
     "text": [
      "'data.frame':\t13459 obs. of  3 variables:\n",
      " $ ForecastId    : int  1 2 3 4 5 6 7 8 9 10 ...\n",
      " $ ConfirmedCases: int  603 648 724 789 846 902 992 1055 1139 1208 ...\n",
      " $ Fatalities    : int  17 18 20 22 24 25 28 30 32 34 ...\n"
     ]
    },
    {
     "data": {
      "text/html": [
       "<table>\n",
       "<caption>A data.frame: 6 × 3</caption>\n",
       "<thead>\n",
       "\t<tr><th></th><th scope=col>ForecastId</th><th scope=col>ConfirmedCases</th><th scope=col>Fatalities</th></tr>\n",
       "\t<tr><th></th><th scope=col>&lt;int&gt;</th><th scope=col>&lt;int&gt;</th><th scope=col>&lt;int&gt;</th></tr>\n",
       "</thead>\n",
       "<tbody>\n",
       "\t<tr><th scope=row>1</th><td>1</td><td>603</td><td>17</td></tr>\n",
       "\t<tr><th scope=row>2</th><td>2</td><td>648</td><td>18</td></tr>\n",
       "\t<tr><th scope=row>3</th><td>3</td><td>724</td><td>20</td></tr>\n",
       "\t<tr><th scope=row>4</th><td>4</td><td>789</td><td>22</td></tr>\n",
       "\t<tr><th scope=row>5</th><td>5</td><td>846</td><td>24</td></tr>\n",
       "\t<tr><th scope=row>6</th><td>6</td><td>902</td><td>25</td></tr>\n",
       "</tbody>\n",
       "</table>\n"
      ],
      "text/latex": [
       "A data.frame: 6 × 3\n",
       "\\begin{tabular}{r|lll}\n",
       "  & ForecastId & ConfirmedCases & Fatalities\\\\\n",
       "  & <int> & <int> & <int>\\\\\n",
       "\\hline\n",
       "\t1 & 1 & 603 & 17\\\\\n",
       "\t2 & 2 & 648 & 18\\\\\n",
       "\t3 & 3 & 724 & 20\\\\\n",
       "\t4 & 4 & 789 & 22\\\\\n",
       "\t5 & 5 & 846 & 24\\\\\n",
       "\t6 & 6 & 902 & 25\\\\\n",
       "\\end{tabular}\n"
      ],
      "text/markdown": [
       "\n",
       "A data.frame: 6 × 3\n",
       "\n",
       "| <!--/--> | ForecastId &lt;int&gt; | ConfirmedCases &lt;int&gt; | Fatalities &lt;int&gt; |\n",
       "|---|---|---|---|\n",
       "| 1 | 1 | 603 | 17 |\n",
       "| 2 | 2 | 648 | 18 |\n",
       "| 3 | 3 | 724 | 20 |\n",
       "| 4 | 4 | 789 | 22 |\n",
       "| 5 | 5 | 846 | 24 |\n",
       "| 6 | 6 | 902 | 25 |\n",
       "\n"
      ],
      "text/plain": [
       "  ForecastId ConfirmedCases Fatalities\n",
       "1 1          603            17        \n",
       "2 2          648            18        \n",
       "3 3          724            20        \n",
       "4 4          789            22        \n",
       "5 5          846            24        \n",
       "6 6          902            25        "
      ]
     },
     "metadata": {},
     "output_type": "display_data"
    },
    {
     "data": {
      "text/html": [
       "<table>\n",
       "<caption>A data.frame: 6 × 3</caption>\n",
       "<thead>\n",
       "\t<tr><th></th><th scope=col>ForecastId</th><th scope=col>ConfirmedCases</th><th scope=col>Fatalities</th></tr>\n",
       "\t<tr><th></th><th scope=col>&lt;int&gt;</th><th scope=col>&lt;int&gt;</th><th scope=col>&lt;int&gt;</th></tr>\n",
       "</thead>\n",
       "<tbody>\n",
       "\t<tr><th scope=row>13454</th><td>13454</td><td> 96</td><td>17</td></tr>\n",
       "\t<tr><th scope=row>13455</th><td>13455</td><td> 99</td><td>17</td></tr>\n",
       "\t<tr><th scope=row>13456</th><td>13456</td><td>104</td><td>18</td></tr>\n",
       "\t<tr><th scope=row>13457</th><td>13457</td><td>107</td><td>19</td></tr>\n",
       "\t<tr><th scope=row>13458</th><td>13458</td><td>110</td><td>19</td></tr>\n",
       "\t<tr><th scope=row>13459</th><td>13459</td><td>113</td><td>20</td></tr>\n",
       "</tbody>\n",
       "</table>\n"
      ],
      "text/latex": [
       "A data.frame: 6 × 3\n",
       "\\begin{tabular}{r|lll}\n",
       "  & ForecastId & ConfirmedCases & Fatalities\\\\\n",
       "  & <int> & <int> & <int>\\\\\n",
       "\\hline\n",
       "\t13454 & 13454 &  96 & 17\\\\\n",
       "\t13455 & 13455 &  99 & 17\\\\\n",
       "\t13456 & 13456 & 104 & 18\\\\\n",
       "\t13457 & 13457 & 107 & 19\\\\\n",
       "\t13458 & 13458 & 110 & 19\\\\\n",
       "\t13459 & 13459 & 113 & 20\\\\\n",
       "\\end{tabular}\n"
      ],
      "text/markdown": [
       "\n",
       "A data.frame: 6 × 3\n",
       "\n",
       "| <!--/--> | ForecastId &lt;int&gt; | ConfirmedCases &lt;int&gt; | Fatalities &lt;int&gt; |\n",
       "|---|---|---|---|\n",
       "| 13454 | 13454 |  96 | 17 |\n",
       "| 13455 | 13455 |  99 | 17 |\n",
       "| 13456 | 13456 | 104 | 18 |\n",
       "| 13457 | 13457 | 107 | 19 |\n",
       "| 13458 | 13458 | 110 | 19 |\n",
       "| 13459 | 13459 | 113 | 20 |\n",
       "\n"
      ],
      "text/plain": [
       "      ForecastId ConfirmedCases Fatalities\n",
       "13454 13454       96            17        \n",
       "13455 13455       99            17        \n",
       "13456 13456      104            18        \n",
       "13457 13457      107            19        \n",
       "13458 13458      110            19        \n",
       "13459 13459      113            20        "
      ]
     },
     "metadata": {},
     "output_type": "display_data"
    }
   ],
   "source": [
    "covid_data_submission[[\"ConfirmedCases\"]] <- as.integer(covid_data_submission[[\"ConfirmedCases\"]])\n",
    "covid_data_submission[[\"Fatalities\"]] <- as.integer(covid_data_submission[[\"Fatalities\"]])\n",
    "str(covid_data_submission)\n",
    "\n",
    "head(covid_data_submission)\n",
    "tail(covid_data_submission)"
   ]
  },
  {
   "cell_type": "code",
   "execution_count": 19,
   "metadata": {},
   "outputs": [],
   "source": [
    "write.csv(covid_data_submission, file=\"submission.csv\", row.names = F)"
   ]
  }
 ],
 "metadata": {
  "kernelspec": {
   "display_name": "R",
   "language": "R",
   "name": "ir"
  },
  "language_info": {
   "codemirror_mode": "r",
   "file_extension": ".r",
   "mimetype": "text/x-r-source",
   "name": "R",
   "pygments_lexer": "r",
   "version": "3.6.0"
  }
 },
 "nbformat": 4,
 "nbformat_minor": 4
}
